{
 "cells": [
  {
   "cell_type": "markdown",
   "id": "44fc790f",
   "metadata": {},
   "source": [
    "# Medical Insurance Cost Prediction"
   ]
  },
  {
   "cell_type": "markdown",
   "id": "174387eb",
   "metadata": {},
   "source": [
    "### Importing the libraries"
   ]
  },
  {
   "cell_type": "code",
   "execution_count": 1,
   "id": "3e9eafb3",
   "metadata": {},
   "outputs": [],
   "source": [
    "import pandas as pd\n",
    "import numpy as np\n",
    "import seaborn as sns\n",
    "import matplotlib.pyplot as plt\n",
    "import warnings\n",
    "warnings.filterwarnings('ignore')\n",
    "sns.set_style('whitegrid')\n",
    "%matplotlib inline"
   ]
  },
  {
   "cell_type": "markdown",
   "id": "5c6e1822",
   "metadata": {},
   "source": [
    "### Importing the dataset"
   ]
  },
  {
   "cell_type": "code",
   "execution_count": 2,
   "id": "5d2f7f7a",
   "metadata": {},
   "outputs": [],
   "source": [
    "df = pd.read_csv('insurance.csv')"
   ]
  },
  {
   "cell_type": "code",
   "execution_count": 3,
   "id": "5e45daa8",
   "metadata": {},
   "outputs": [
    {
     "data": {
      "text/html": [
       "<div>\n",
       "<style scoped>\n",
       "    .dataframe tbody tr th:only-of-type {\n",
       "        vertical-align: middle;\n",
       "    }\n",
       "\n",
       "    .dataframe tbody tr th {\n",
       "        vertical-align: top;\n",
       "    }\n",
       "\n",
       "    .dataframe thead th {\n",
       "        text-align: right;\n",
       "    }\n",
       "</style>\n",
       "<table border=\"1\" class=\"dataframe\">\n",
       "  <thead>\n",
       "    <tr style=\"text-align: right;\">\n",
       "      <th></th>\n",
       "      <th>age</th>\n",
       "      <th>sex</th>\n",
       "      <th>bmi</th>\n",
       "      <th>children</th>\n",
       "      <th>smoker</th>\n",
       "      <th>region</th>\n",
       "      <th>charges</th>\n",
       "    </tr>\n",
       "  </thead>\n",
       "  <tbody>\n",
       "    <tr>\n",
       "      <th>0</th>\n",
       "      <td>19</td>\n",
       "      <td>female</td>\n",
       "      <td>27.900</td>\n",
       "      <td>0</td>\n",
       "      <td>yes</td>\n",
       "      <td>southwest</td>\n",
       "      <td>16884.92400</td>\n",
       "    </tr>\n",
       "    <tr>\n",
       "      <th>1</th>\n",
       "      <td>18</td>\n",
       "      <td>male</td>\n",
       "      <td>33.770</td>\n",
       "      <td>1</td>\n",
       "      <td>no</td>\n",
       "      <td>southeast</td>\n",
       "      <td>1725.55230</td>\n",
       "    </tr>\n",
       "    <tr>\n",
       "      <th>2</th>\n",
       "      <td>28</td>\n",
       "      <td>male</td>\n",
       "      <td>33.000</td>\n",
       "      <td>3</td>\n",
       "      <td>no</td>\n",
       "      <td>southeast</td>\n",
       "      <td>4449.46200</td>\n",
       "    </tr>\n",
       "    <tr>\n",
       "      <th>3</th>\n",
       "      <td>33</td>\n",
       "      <td>male</td>\n",
       "      <td>22.705</td>\n",
       "      <td>0</td>\n",
       "      <td>no</td>\n",
       "      <td>northwest</td>\n",
       "      <td>21984.47061</td>\n",
       "    </tr>\n",
       "    <tr>\n",
       "      <th>4</th>\n",
       "      <td>32</td>\n",
       "      <td>male</td>\n",
       "      <td>28.880</td>\n",
       "      <td>0</td>\n",
       "      <td>no</td>\n",
       "      <td>northwest</td>\n",
       "      <td>3866.85520</td>\n",
       "    </tr>\n",
       "  </tbody>\n",
       "</table>\n",
       "</div>"
      ],
      "text/plain": [
       "   age     sex     bmi  children smoker     region      charges\n",
       "0   19  female  27.900         0    yes  southwest  16884.92400\n",
       "1   18    male  33.770         1     no  southeast   1725.55230\n",
       "2   28    male  33.000         3     no  southeast   4449.46200\n",
       "3   33    male  22.705         0     no  northwest  21984.47061\n",
       "4   32    male  28.880         0     no  northwest   3866.85520"
      ]
     },
     "execution_count": 3,
     "metadata": {},
     "output_type": "execute_result"
    }
   ],
   "source": [
    "df.head()"
   ]
  },
  {
   "cell_type": "code",
   "execution_count": 4,
   "id": "b0018582",
   "metadata": {},
   "outputs": [
    {
     "data": {
      "text/plain": [
       "(1338, 7)"
      ]
     },
     "execution_count": 4,
     "metadata": {},
     "output_type": "execute_result"
    }
   ],
   "source": [
    "df.shape"
   ]
  },
  {
   "cell_type": "code",
   "execution_count": 5,
   "id": "9d43bbb9",
   "metadata": {},
   "outputs": [
    {
     "name": "stdout",
     "output_type": "stream",
     "text": [
      "<class 'pandas.core.frame.DataFrame'>\n",
      "RangeIndex: 1338 entries, 0 to 1337\n",
      "Data columns (total 7 columns):\n",
      " #   Column    Non-Null Count  Dtype  \n",
      "---  ------    --------------  -----  \n",
      " 0   age       1338 non-null   int64  \n",
      " 1   sex       1338 non-null   object \n",
      " 2   bmi       1338 non-null   float64\n",
      " 3   children  1338 non-null   int64  \n",
      " 4   smoker    1338 non-null   object \n",
      " 5   region    1338 non-null   object \n",
      " 6   charges   1338 non-null   float64\n",
      "dtypes: float64(2), int64(2), object(3)\n",
      "memory usage: 73.3+ KB\n"
     ]
    }
   ],
   "source": [
    "df.info()"
   ]
  },
  {
   "cell_type": "code",
   "execution_count": 6,
   "id": "750c182c",
   "metadata": {},
   "outputs": [
    {
     "data": {
      "text/html": [
       "<div>\n",
       "<style scoped>\n",
       "    .dataframe tbody tr th:only-of-type {\n",
       "        vertical-align: middle;\n",
       "    }\n",
       "\n",
       "    .dataframe tbody tr th {\n",
       "        vertical-align: top;\n",
       "    }\n",
       "\n",
       "    .dataframe thead th {\n",
       "        text-align: right;\n",
       "    }\n",
       "</style>\n",
       "<table border=\"1\" class=\"dataframe\">\n",
       "  <thead>\n",
       "    <tr style=\"text-align: right;\">\n",
       "      <th></th>\n",
       "      <th>age</th>\n",
       "      <th>bmi</th>\n",
       "      <th>children</th>\n",
       "      <th>charges</th>\n",
       "    </tr>\n",
       "  </thead>\n",
       "  <tbody>\n",
       "    <tr>\n",
       "      <th>count</th>\n",
       "      <td>1338.000000</td>\n",
       "      <td>1338.000000</td>\n",
       "      <td>1338.000000</td>\n",
       "      <td>1338.000000</td>\n",
       "    </tr>\n",
       "    <tr>\n",
       "      <th>mean</th>\n",
       "      <td>39.207025</td>\n",
       "      <td>30.663397</td>\n",
       "      <td>1.094918</td>\n",
       "      <td>13270.422265</td>\n",
       "    </tr>\n",
       "    <tr>\n",
       "      <th>std</th>\n",
       "      <td>14.049960</td>\n",
       "      <td>6.098187</td>\n",
       "      <td>1.205493</td>\n",
       "      <td>12110.011237</td>\n",
       "    </tr>\n",
       "    <tr>\n",
       "      <th>min</th>\n",
       "      <td>18.000000</td>\n",
       "      <td>15.960000</td>\n",
       "      <td>0.000000</td>\n",
       "      <td>1121.873900</td>\n",
       "    </tr>\n",
       "    <tr>\n",
       "      <th>25%</th>\n",
       "      <td>27.000000</td>\n",
       "      <td>26.296250</td>\n",
       "      <td>0.000000</td>\n",
       "      <td>4740.287150</td>\n",
       "    </tr>\n",
       "    <tr>\n",
       "      <th>50%</th>\n",
       "      <td>39.000000</td>\n",
       "      <td>30.400000</td>\n",
       "      <td>1.000000</td>\n",
       "      <td>9382.033000</td>\n",
       "    </tr>\n",
       "    <tr>\n",
       "      <th>75%</th>\n",
       "      <td>51.000000</td>\n",
       "      <td>34.693750</td>\n",
       "      <td>2.000000</td>\n",
       "      <td>16639.912515</td>\n",
       "    </tr>\n",
       "    <tr>\n",
       "      <th>max</th>\n",
       "      <td>64.000000</td>\n",
       "      <td>53.130000</td>\n",
       "      <td>5.000000</td>\n",
       "      <td>63770.428010</td>\n",
       "    </tr>\n",
       "  </tbody>\n",
       "</table>\n",
       "</div>"
      ],
      "text/plain": [
       "               age          bmi     children       charges\n",
       "count  1338.000000  1338.000000  1338.000000   1338.000000\n",
       "mean     39.207025    30.663397     1.094918  13270.422265\n",
       "std      14.049960     6.098187     1.205493  12110.011237\n",
       "min      18.000000    15.960000     0.000000   1121.873900\n",
       "25%      27.000000    26.296250     0.000000   4740.287150\n",
       "50%      39.000000    30.400000     1.000000   9382.033000\n",
       "75%      51.000000    34.693750     2.000000  16639.912515\n",
       "max      64.000000    53.130000     5.000000  63770.428010"
      ]
     },
     "execution_count": 6,
     "metadata": {},
     "output_type": "execute_result"
    }
   ],
   "source": [
    "df.describe()"
   ]
  },
  {
   "cell_type": "markdown",
   "id": "09ceae4a",
   "metadata": {},
   "source": [
    "#### Distribution of age value"
   ]
  },
  {
   "cell_type": "code",
   "execution_count": 7,
   "id": "3bb303c3",
   "metadata": {},
   "outputs": [
    {
     "data": {
      "image/png": "[encoded data removed]",
      "text/plain": [
       "<Figure size 504x504 with 1 Axes>"
      ]
     },
     "metadata": {
      "needs_background": "light"
     },
     "output_type": "display_data"
    }
   ],
   "source": [
    "plt.figure(figsize=(7, 7))\n",
    "sns.distplot(df.age, kde = True)\n",
    "plt.title('Age Distribution')\n",
    "plt.show()"
   ]
  },
  {
   "cell_type": "markdown",
   "id": "52bd520a",
   "metadata": {},
   "source": [
    "#### Gender counts"
   ]
  },
  {
   "cell_type": "code",
   "execution_count": 8,
   "id": "d6c884b7",
   "metadata": {},
   "outputs": [
    {
     "data": {
      "text/plain": [
       "male      676\n",
       "female    662\n",
       "Name: sex, dtype: int64"
      ]
     },
     "execution_count": 8,
     "metadata": {},
     "output_type": "execute_result"
    }
   ],
   "source": [
    "df.sex.value_counts()"
   ]
  },
  {
   "cell_type": "code",
   "execution_count": 9,
   "id": "ae63fd26",
   "metadata": {},
   "outputs": [
    {
     "data": {
      "image/png": "[encoded data removed]",
      "text/plain": [
       "<Figure size 504x504 with 1 Axes>"
      ]
     },
     "metadata": {
      "needs_background": "light"
     },
     "output_type": "display_data"
    }
   ],
   "source": [
    "plt.figure(figsize=(7, 7))\n",
    "sns.countplot(x='sex', data=df)\n",
    "plt.title('Sex Distribution')\n",
    "plt.show()"
   ]
  },
  {
   "cell_type": "markdown",
   "id": "075cfb78",
   "metadata": {},
   "source": [
    "#### Gender counts with respect to smoker"
   ]
  },
  {
   "cell_type": "code",
   "execution_count": 10,
   "id": "075687ac",
   "metadata": {},
   "outputs": [
    {
     "data": {
      "image/png": "[encoded data removed]",
      "text/plain": [
       "<Figure size 504x504 with 1 Axes>"
      ]
     },
     "metadata": {
      "needs_background": "light"
     },
     "output_type": "display_data"
    }
   ],
   "source": [
    "plt.figure(figsize=(7, 7))\n",
    "sns.countplot(x='sex', hue='smoker', data=df)\n",
    "plt.title('Sex Distribution')\n",
    "plt.show()"
   ]
  },
  {
   "cell_type": "markdown",
   "id": "96aa4626",
   "metadata": {},
   "source": [
    "#### BMI Distribution"
   ]
  },
  {
   "cell_type": "code",
   "execution_count": 11,
   "id": "2f0dbc2f",
   "metadata": {},
   "outputs": [
    {
     "data": {
      "image/png": "[encoded data removed]",
      "text/plain": [
       "<Figure size 504x504 with 1 Axes>"
      ]
     },
     "metadata": {
      "needs_background": "light"
     },
     "output_type": "display_data"
    }
   ],
   "source": [
    "plt.figure(figsize=(7, 7))\n",
    "sns.distplot(df.bmi, kde = True)\n",
    "plt.title('BMI Distribution')\n",
    "plt.show()"
   ]
  },
  {
   "cell_type": "markdown",
   "id": "2e618cb5",
   "metadata": {},
   "source": [
    "#### Children Count"
   ]
  },
  {
   "cell_type": "code",
   "execution_count": 12,
   "id": "27455d3e",
   "metadata": {},
   "outputs": [
    {
     "data": {
      "image/png": "[encoded data removed]",
      "text/plain": [
       "<Figure size 504x504 with 1 Axes>"
      ]
     },
     "metadata": {
      "needs_background": "light"
     },
     "output_type": "display_data"
    }
   ],
   "source": [
    "plt.figure(figsize=(7, 7))\n",
    "sns.countplot(x = 'children', data=df)\n",
    "plt.title('Children Count')\n",
    "plt.show()"
   ]
  },
  {
   "cell_type": "markdown",
   "id": "b717d106",
   "metadata": {},
   "source": [
    "#### Smoker Count"
   ]
  },
  {
   "cell_type": "code",
   "execution_count": 13,
   "id": "fac90437",
   "metadata": {},
   "outputs": [
    {
     "data": {
      "image/png": "[encoded data removed]",
      "text/plain": [
       "<Figure size 504x504 with 1 Axes>"
      ]
     },
     "metadata": {
      "needs_background": "light"
     },
     "output_type": "display_data"
    }
   ],
   "source": [
    "plt.figure(figsize=(7, 7))\n",
    "sns.countplot(x = 'smoker', data=df)\n",
    "plt.title('Smoker Count')\n",
    "plt.show()"
   ]
  },
  {
   "cell_type": "markdown",
   "id": "20e575eb",
   "metadata": {},
   "source": [
    "#### Region Count"
   ]
  },
  {
   "cell_type": "code",
   "execution_count": 14,
   "id": "24a3f73b",
   "metadata": {},
   "outputs": [
    {
     "data": {
      "image/png": "[encoded data removed]",
      "text/plain": [
       "<Figure size 504x504 with 1 Axes>"
      ]
     },
     "metadata": {
      "needs_background": "light"
     },
     "output_type": "display_data"
    }
   ],
   "source": [
    "plt.figure(figsize=(7, 7))\n",
    "sns.countplot(x = 'region', data=df)\n",
    "plt.title('Region Count')\n",
    "plt.show()"
   ]
  },
  {
   "cell_type": "markdown",
   "id": "910cc594",
   "metadata": {},
   "source": [
    "#### Charges distribution"
   ]
  },
  {
   "cell_type": "code",
   "execution_count": 15,
   "id": "3a07b4b1",
   "metadata": {},
   "outputs": [
    {
     "data": {
      "image/png": "[encoded data removed]",
      "text/plain": [
       "<Figure size 504x504 with 1 Axes>"
      ]
     },
     "metadata": {
      "needs_background": "light"
     },
     "output_type": "display_data"
    }
   ],
   "source": [
    "plt.figure(figsize=(7, 7))\n",
    "sns.distplot(df.charges, kde = True)\n",
    "plt.title('Charges Distribution')\n",
    "plt.show()"
   ]
  },
  {
   "cell_type": "markdown",
   "id": "1617be48",
   "metadata": {},
   "source": [
    "### Data Preprocessing"
   ]
  },
  {
   "cell_type": "markdown",
   "id": "3620f541",
   "metadata": {},
   "source": [
    "#### Encoding the categorial features"
   ]
  },
  {
   "cell_type": "code",
   "execution_count": 16,
   "id": "a9d20e9b",
   "metadata": {},
   "outputs": [],
   "source": [
    "from sklearn.preprocessing import LabelEncoder\n",
    "le = LabelEncoder()\n",
    "\n",
    "df['sex'] = le.fit_transform(df['sex'])\n",
    "df['smoker'] = le.fit_transform(df['smoker'])\n",
    "df['region'] = le.fit_transform(df['region'])"
   ]
  },
  {
   "cell_type": "code",
   "execution_count": 17,
   "id": "8cd5cd67",
   "metadata": {},
   "outputs": [
    {
     "data": {
      "text/html": [
       "<div>\n",
       "<style scoped>\n",
       "    .dataframe tbody tr th:only-of-type {\n",
       "        vertical-align: middle;\n",
       "    }\n",
       "\n",
       "    .dataframe tbody tr th {\n",
       "        vertical-align: top;\n",
       "    }\n",
       "\n",
       "    .dataframe thead th {\n",
       "        text-align: right;\n",
       "    }\n",
       "</style>\n",
       "<table border=\"1\" class=\"dataframe\">\n",
       "  <thead>\n",
       "    <tr style=\"text-align: right;\">\n",
       "      <th></th>\n",
       "      <th>age</th>\n",
       "      <th>sex</th>\n",
       "      <th>bmi</th>\n",
       "      <th>children</th>\n",
       "      <th>smoker</th>\n",
       "      <th>region</th>\n",
       "      <th>charges</th>\n",
       "    </tr>\n",
       "  </thead>\n",
       "  <tbody>\n",
       "    <tr>\n",
       "      <th>0</th>\n",
       "      <td>19</td>\n",
       "      <td>0</td>\n",
       "      <td>27.900</td>\n",
       "      <td>0</td>\n",
       "      <td>1</td>\n",
       "      <td>3</td>\n",
       "      <td>16884.92400</td>\n",
       "    </tr>\n",
       "    <tr>\n",
       "      <th>1</th>\n",
       "      <td>18</td>\n",
       "      <td>1</td>\n",
       "      <td>33.770</td>\n",
       "      <td>1</td>\n",
       "      <td>0</td>\n",
       "      <td>2</td>\n",
       "      <td>1725.55230</td>\n",
       "    </tr>\n",
       "    <tr>\n",
       "      <th>2</th>\n",
       "      <td>28</td>\n",
       "      <td>1</td>\n",
       "      <td>33.000</td>\n",
       "      <td>3</td>\n",
       "      <td>0</td>\n",
       "      <td>2</td>\n",
       "      <td>4449.46200</td>\n",
       "    </tr>\n",
       "    <tr>\n",
       "      <th>3</th>\n",
       "      <td>33</td>\n",
       "      <td>1</td>\n",
       "      <td>22.705</td>\n",
       "      <td>0</td>\n",
       "      <td>0</td>\n",
       "      <td>1</td>\n",
       "      <td>21984.47061</td>\n",
       "    </tr>\n",
       "    <tr>\n",
       "      <th>4</th>\n",
       "      <td>32</td>\n",
       "      <td>1</td>\n",
       "      <td>28.880</td>\n",
       "      <td>0</td>\n",
       "      <td>0</td>\n",
       "      <td>1</td>\n",
       "      <td>3866.85520</td>\n",
       "    </tr>\n",
       "    <tr>\n",
       "      <th>...</th>\n",
       "      <td>...</td>\n",
       "      <td>...</td>\n",
       "      <td>...</td>\n",
       "      <td>...</td>\n",
       "      <td>...</td>\n",
       "      <td>...</td>\n",
       "      <td>...</td>\n",
       "    </tr>\n",
       "    <tr>\n",
       "      <th>1333</th>\n",
       "      <td>50</td>\n",
       "      <td>1</td>\n",
       "      <td>30.970</td>\n",
       "      <td>3</td>\n",
       "      <td>0</td>\n",
       "      <td>1</td>\n",
       "      <td>10600.54830</td>\n",
       "    </tr>\n",
       "    <tr>\n",
       "      <th>1334</th>\n",
       "      <td>18</td>\n",
       "      <td>0</td>\n",
       "      <td>31.920</td>\n",
       "      <td>0</td>\n",
       "      <td>0</td>\n",
       "      <td>0</td>\n",
       "      <td>2205.98080</td>\n",
       "    </tr>\n",
       "    <tr>\n",
       "      <th>1335</th>\n",
       "      <td>18</td>\n",
       "      <td>0</td>\n",
       "      <td>36.850</td>\n",
       "      <td>0</td>\n",
       "      <td>0</td>\n",
       "      <td>2</td>\n",
       "      <td>1629.83350</td>\n",
       "    </tr>\n",
       "    <tr>\n",
       "      <th>1336</th>\n",
       "      <td>21</td>\n",
       "      <td>0</td>\n",
       "      <td>25.800</td>\n",
       "      <td>0</td>\n",
       "      <td>0</td>\n",
       "      <td>3</td>\n",
       "      <td>2007.94500</td>\n",
       "    </tr>\n",
       "    <tr>\n",
       "      <th>1337</th>\n",
       "      <td>61</td>\n",
       "      <td>0</td>\n",
       "      <td>29.070</td>\n",
       "      <td>0</td>\n",
       "      <td>1</td>\n",
       "      <td>1</td>\n",
       "      <td>29141.36030</td>\n",
       "    </tr>\n",
       "  </tbody>\n",
       "</table>\n",
       "<p>1338 rows × 7 columns</p>\n",
       "</div>"
      ],
      "text/plain": [
       "      age  sex     bmi  children  smoker  region      charges\n",
       "0      19    0  27.900         0       1       3  16884.92400\n",
       "1      18    1  33.770         1       0       2   1725.55230\n",
       "2      28    1  33.000         3       0       2   4449.46200\n",
       "3      33    1  22.705         0       0       1  21984.47061\n",
       "4      32    1  28.880         0       0       1   3866.85520\n",
       "...   ...  ...     ...       ...     ...     ...          ...\n",
       "1333   50    1  30.970         3       0       1  10600.54830\n",
       "1334   18    0  31.920         0       0       0   2205.98080\n",
       "1335   18    0  36.850         0       0       2   1629.83350\n",
       "1336   21    0  25.800         0       0       3   2007.94500\n",
       "1337   61    0  29.070         0       1       1  29141.36030\n",
       "\n",
       "[1338 rows x 7 columns]"
      ]
     },
     "execution_count": 17,
     "metadata": {},
     "output_type": "execute_result"
    }
   ],
   "source": [
    "df"
   ]
  },
  {
   "cell_type": "markdown",
   "id": "b6255a05",
   "metadata": {},
   "source": [
    "### Splitting the data into independent and dependent variable"
   ]
  },
  {
   "cell_type": "code",
   "execution_count": 18,
   "id": "0dfe1885",
   "metadata": {},
   "outputs": [],
   "source": [
    "X = df.drop('charges', axis = 1)\n",
    "y = df.charges"
   ]
  },
  {
   "cell_type": "markdown",
   "id": "bf2c6401",
   "metadata": {},
   "source": [
    "### Splitting the data into training and test set"
   ]
  },
  {
   "cell_type": "code",
   "execution_count": 19,
   "id": "2f857f90",
   "metadata": {},
   "outputs": [],
   "source": [
    "from sklearn.model_selection import train_test_split\n",
    "X_train, X_test, y_train, y_test = train_test_split(X, y, test_size=0.2, random_state=42)"
   ]
  },
  {
   "cell_type": "markdown",
   "id": "8b77301f",
   "metadata": {},
   "source": [
    "### Fitting the random forest regressor"
   ]
  },
  {
   "cell_type": "code",
   "execution_count": 20,
   "id": "4d5d65c7",
   "metadata": {},
   "outputs": [
    {
     "data": {
      "text/plain": [
       "RandomForestRegressor()"
      ]
     },
     "execution_count": 20,
     "metadata": {},
     "output_type": "execute_result"
    }
   ],
   "source": [
    "from sklearn.ensemble import RandomForestRegressor\n",
    "rfr = RandomForestRegressor()\n",
    "rfr.fit(X_train, y_train)"
   ]
  },
  {
   "cell_type": "code",
   "execution_count": 21,
   "id": "99153375",
   "metadata": {},
   "outputs": [
    {
     "data": {
      "text/plain": [
       "array([ 9530.1729744,  9882.4594671, 21506.0113613, ..., 12503.2012743,\n",
       "       45017.8757433, 11082.2468482])"
      ]
     },
     "execution_count": 21,
     "metadata": {},
     "output_type": "execute_result"
    }
   ],
   "source": [
    "y_preds_train = rfr.predict(X_train)\n",
    "y_preds_train"
   ]
  },
  {
   "cell_type": "code",
   "execution_count": 22,
   "id": "7ad63066",
   "metadata": {},
   "outputs": [
    {
     "data": {
      "text/plain": [
       "array([11214.7941991 ,  5298.5032446 , 28382.197646  ,  9559.5533129 ,\n",
       "       34379.2918401 ,  9147.5504815 ,  2189.070476  , 14342.9156665 ,\n",
       "        6645.63451   , 10695.2480026 , 19868.7630794 ,  7064.936101  ,\n",
       "        4198.5660915 , 46451.1360415 , 48504.0546394 , 45087.8303941 ,\n",
       "       10158.2400262 , 43541.6536207 ,  8589.6269445 , 25646.9073224 ,\n",
       "        5749.9640562 , 10277.1141936 ,  2424.2484452 ,  2839.9217556 ,\n",
       "       11562.1213161 , 11399.3903001 , 13630.4257308 ,  6284.5513888 ,\n",
       "        9788.2362632 ,  3839.12504477,  7651.048089  , 11973.5068056 ,\n",
       "        2512.7730516 ,  5464.7126547 ,  3592.1596112 , 11685.9074727 ,\n",
       "        2866.7614933 ,  8003.7332718 , 23806.2917625 , 39034.524392  ,\n",
       "        6389.0239114 ,  4676.1332346 , 12320.7746261 , 14745.617139  ,\n",
       "        6265.4715221 , 15756.0586466 , 17374.1868416 ,  5929.6319998 ,\n",
       "       42061.1521309 ,  6805.3379515 , 13836.6194735 ,  2349.7643673 ,\n",
       "        6671.4324282 ,  1855.2488695 , 11560.8214462 , 11524.9129197 ,\n",
       "        3580.43905   , 45017.7565082 , 12765.2922415 , 14943.8799995 ,\n",
       "       13692.596899  ,  7677.3611747 , 21845.673238  ,  7644.8937263 ,\n",
       "       11757.3400344 ,  4780.4841313 , 18139.6780044 , 13236.8140202 ,\n",
       "        5540.4147703 ,  2372.2838023 ,  8130.7377444 ,  9684.6069769 ,\n",
       "        9603.2790016 ,  9999.6569759 ,  8034.1100067 ,  5011.9895805 ,\n",
       "        8140.2127484 , 12401.3027921 ,  4357.4102259 , 10454.1422808 ,\n",
       "        2462.8650582 , 28215.7389039 ,  5800.6340108 , 37565.885941  ,\n",
       "       40608.938908  , 41844.8615969 ,  5246.3658729 , 12950.6839725 ,\n",
       "        9982.2106506 , 16365.9145919 , 20347.4529906 , 26792.6211895 ,\n",
       "       29059.7630232 ,  5934.0265786 , 45220.6672874 ,  7307.8024733 ,\n",
       "       20164.9601229 ,  2349.8501742 , 17821.9392787 , 11556.573686  ,\n",
       "        4604.4634604 ,  1916.5011527 ,  6231.4460744 , 16724.770007  ,\n",
       "       14111.0035743 ,  7988.0520604 ,  8076.644939  , 23459.8330491 ,\n",
       "        1942.6189738 , 24123.408457  ,  1553.1518192 ,  3450.158012  ,\n",
       "       12381.3914636 , 41367.6420536 , 11081.5851389 ,  5831.4981582 ,\n",
       "       12761.6132975 , 26709.6129569 ,  7302.779844  ,  7464.4650836 ,\n",
       "        8164.631708  , 12298.4700245 , 16524.4025789 ,  2195.897776  ,\n",
       "        7415.9341039 ,  7882.5175539 , 11413.7194646 , 11586.2784572 ,\n",
       "       15376.8985355 ,  3951.9801927 ,  4226.8629011 ,  6860.3888636 ,\n",
       "        5864.2586375 , 11597.9429539 ,  6010.7423481 , 24760.8227749 ,\n",
       "        6598.290485  , 38291.3447725 , 46884.116978  , 38876.4729253 ,\n",
       "        5117.2176695 , 12666.4180343 ,  2869.159223  , 16862.6374807 ,\n",
       "        2603.6356792 , 24048.4971202 ,  6766.1120883 ,  4648.0138306 ,\n",
       "       11333.7468872 ,  5558.513592  , 49484.5066771 ,  6114.3820635 ,\n",
       "        1454.3714595 , 46098.0253037 ,  6370.6090635 ,  5653.552425  ,\n",
       "       13492.9894395 , 10035.3994444 , 35947.8104803 , 39651.781527  ,\n",
       "       15349.5275687 ,  3399.8692216 , 21965.1378706 ,  4314.2312479 ,\n",
       "        5386.6990856 ,  7629.0671583 , 48443.4619509 , 44203.9877652 ,\n",
       "       40445.6287306 ,  7898.4820281 , 10572.5006864 ,  6633.3989982 ,\n",
       "        7581.4203659 ,  4611.4875004 ,  2562.204066  , 22769.190598  ,\n",
       "       16951.5749275 , 14305.9495708 , 16780.4466535 , 11612.5504355 ,\n",
       "       28376.0296182 ,  5873.0170101 ,  8933.0804104 ,  6847.6570991 ,\n",
       "        6840.949311  ,  4098.1440842 ,  6333.1258912 ,  5110.5374713 ,\n",
       "        9407.1691669 , 11495.8297637 ,  4281.7351534 ,  4744.72242479,\n",
       "        2645.1933469 , 47038.5349349 , 13133.36711   ,  9702.9401911 ,\n",
       "        3380.269183  , 14971.5610148 ,  2233.48917283, 10689.4484863 ,\n",
       "        3558.7553093 , 24113.6242162 ,  8468.6399271 ,  8154.8029379 ,\n",
       "       18254.7173552 , 18862.1707439 , 10833.3528968 ,  8573.6161067 ,\n",
       "        9760.4421119 ,  4188.710677  , 14988.8467114 , 13799.2425624 ,\n",
       "       10910.4797401 , 18307.4729843 ,  7571.8736321 ,  4269.0141354 ,\n",
       "        4685.7184465 , 13921.0622973 , 14544.3167122 ,  5468.4333367 ,\n",
       "        2139.2091325 ,  9659.5050547 ,  8813.2408996 , 45150.7591664 ,\n",
       "        2917.3425911 , 38665.1101645 ,  1731.0295895 ,  1829.7805426 ,\n",
       "        9514.8561646 , 11202.388775  ,  2642.761254  ,  9582.0129391 ,\n",
       "        5577.9731569 , 26714.2969483 , 11004.6401373 ,  9224.003957  ,\n",
       "        6174.1810631 ,  7291.1258875 , 45091.7095602 ,  3766.7452313 ,\n",
       "       13366.5277717 , 41617.4505705 ,  3482.2587614 ,  3434.9420475 ,\n",
       "        1629.7273455 ,  3014.4747737 ,  4392.9758587 ,  4549.6969638 ,\n",
       "       13808.8591207 ,  1847.7502314 ,  2067.9359777 ,  8679.6853308 ,\n",
       "        3367.0504072 , 11602.611143  ,  5593.0473473 ,  4149.7377145 ,\n",
       "       12866.4171345 ,  5612.8147827 ,  9763.2118685 ,  6495.9594708 ,\n",
       "        7744.626739  , 14318.5417522 , 19295.2211016 , 46845.2053035 ,\n",
       "       12684.9181532 ,  6367.8521745 , 46765.8913851 ,  9769.2870485 ])"
      ]
     },
     "execution_count": 22,
     "metadata": {},
     "output_type": "execute_result"
    }
   ],
   "source": [
    "y_preds_test = rfr.predict(X_test)\n",
    "y_preds_test"
   ]
  },
  {
   "cell_type": "code",
   "execution_count": 23,
   "id": "f02d40fa",
   "metadata": {},
   "outputs": [
    {
     "data": {
      "text/plain": [
       "0.9766294398797567"
      ]
     },
     "execution_count": 23,
     "metadata": {},
     "output_type": "execute_result"
    }
   ],
   "source": [
    "train_score = rfr.score(X_train, y_train)\n",
    "train_score"
   ]
  },
  {
   "cell_type": "code",
   "execution_count": 24,
   "id": "379a48e8",
   "metadata": {},
   "outputs": [
    {
     "data": {
      "text/plain": [
       "0.8642986255846851"
      ]
     },
     "execution_count": 24,
     "metadata": {},
     "output_type": "execute_result"
    }
   ],
   "source": [
    "test_score = rfr.score(X_test, y_test)\n",
    "test_score"
   ]
  },
  {
   "cell_type": "markdown",
   "id": "b17ed19b",
   "metadata": {},
   "source": [
    "### Visualizing the actual values and predicted values for training set"
   ]
  },
  {
   "cell_type": "code",
   "execution_count": 25,
   "id": "c553380f",
   "metadata": {},
   "outputs": [
    {
     "data": {
      "image/png": "[encoded data removed]",
      "text/plain": [
       "<Figure size 720x360 with 1 Axes>"
      ]
     },
     "metadata": {
      "needs_background": "light"
     },
     "output_type": "display_data"
    }
   ],
   "source": [
    "plt.figure(figsize=(10, 5))\n",
    "plt.scatter(y_train, y_preds_train)\n",
    "plt.title('Actual charges vs Predicted charges on Training data')\n",
    "plt.xlabel('Actual Charges')\n",
    "plt.ylabel('Predicted Charges')\n",
    "plt.show()"
   ]
  },
  {
   "cell_type": "markdown",
   "id": "dd270e86",
   "metadata": {},
   "source": [
    "### Visualizing the actual value and predicted values for test set"
   ]
  },
  {
   "cell_type": "code",
   "execution_count": 26,
   "id": "11a70c8d",
   "metadata": {},
   "outputs": [
    {
     "data": {
      "image/png": "[encoded data removed]",
      "text/plain": [
       "<Figure size 720x360 with 1 Axes>"
      ]
     },
     "metadata": {
      "needs_background": "light"
     },
     "output_type": "display_data"
    }
   ],
   "source": [
    "plt.figure(figsize=(10, 5))\n",
    "plt.scatter(y_test, y_preds_test)\n",
    "plt.title('Actual Charges vs Predicted Charges on Training data')\n",
    "plt.xlabel('Actual Charges')\n",
    "plt.ylabel('Predicted Charges')\n",
    "plt.show()"
   ]
  },
  {
   "cell_type": "markdown",
   "id": "0e169feb",
   "metadata": {},
   "source": [
    "### Now fitting other different models to the training set"
   ]
  },
  {
   "cell_type": "code",
   "execution_count": 28,
   "id": "4fae9038",
   "metadata": {},
   "outputs": [],
   "source": [
    "from sklearn.linear_model import LinearRegression\n",
    "from sklearn.tree import DecisionTreeRegressor\n",
    "from sklearn.svm import SVR\n",
    "from xgboost import XGBRegressor"
   ]
  },
  {
   "cell_type": "code",
   "execution_count": 29,
   "id": "8eddc3fa",
   "metadata": {},
   "outputs": [],
   "source": [
    "def fit_model(model, X_train, X_test, y_train, y_test):\n",
    "    model.fit(X_train, y_train)\n",
    "    print('The predicted values:\\n ', model.predict(X_test))\n",
    "    print('\\nThe accuracy score: ', model.score(X_test, y_test))"
   ]
  },
  {
   "cell_type": "markdown",
   "id": "16d8c0dd",
   "metadata": {},
   "source": [
    "### 1. Linear Regession"
   ]
  },
  {
   "cell_type": "code",
   "execution_count": 31,
   "id": "140824b1",
   "metadata": {},
   "outputs": [
    {
     "name": "stdout",
     "output_type": "stream",
     "text": [
      "The predicted values:\n",
      "  [ 8924.40724442  7116.29501758 36909.01352144  9507.87469118\n",
      " 27013.3500079  10790.77956153   226.29844571 16942.71599941\n",
      "  1056.63079407 11267.91997309 28048.59793155  9424.36324087\n",
      "  5326.32232088 38460.06017922 40303.40597026 37147.01010262\n",
      " 15287.91876684 35965.05485917  9179.1753067  31510.8319849\n",
      "  3797.79068365 10070.82803304  2312.57551348  7074.41348194\n",
      " 11352.37224357 12907.77079523 14448.84678727  6205.65997921\n",
      "  9917.00839638  2239.50032819  9060.55469043 13120.56214535\n",
      "  4617.70702822  3467.91218926  4402.74821855 12967.91608907\n",
      "  1927.44498944  8757.9180081  33324.35180597 32638.47697026\n",
      "  3852.41756615  4370.39670883 14080.76023234 11478.63402576\n",
      "  8829.26135924 12046.15119133  5322.80515731  3100.71182484\n",
      " 35546.60547574  9201.61196817 15894.23763341  2406.04003607\n",
      " 12397.52052544  1433.90617387 13448.14094304 12519.54174599\n",
      "  4295.28664609 32202.67982224 13263.171278   12842.10998145\n",
      " 14111.93665793 10551.59361363 16298.16745307  7818.15570419\n",
      " 11787.5726767   4113.26897366 26596.69895299 10998.86488364\n",
      "  2193.72748353  6139.35587246 10668.53569182 11573.9066314\n",
      " 11041.12265049  9226.58405681 12007.44404757  6811.43260247\n",
      "  7191.83534635 10790.05517482  6639.37239748  8711.93118512\n",
      "  3824.75581175 36583.59532017  6321.81241487 30776.79577931\n",
      " 34875.57159272 35221.47920524  7079.6173919  12906.65057781\n",
      "  9989.1664665  14409.60808941 17632.66059003 35329.860348\n",
      " 32980.23882829  6136.20837946 32051.98799937  9422.40290935\n",
      " 29504.90196714  3732.73937642 28359.80070947  5779.65825838\n",
      "  5456.76178371  1827.69473369 11549.90308087 15012.88613485\n",
      " 11657.94522782  4363.64612857  9957.82591489 31781.66667504\n",
      "  -129.15666671 32890.39693986  3219.18553916 10224.50053069\n",
      " 14265.38958083 31584.36114122 11409.59610007  3867.75510966\n",
      " 13059.64952969 31756.32678896  8214.15949009  3287.68482341\n",
      "  8383.13242816 10636.53442336 15157.79567852  5702.50803854\n",
      "  3836.57711344 10272.53498033 10956.58803242 11071.81222693\n",
      " 14496.65293874  7476.92979541  5450.7838718   9288.29781036\n",
      "  9399.10130723 12476.31967945  8278.36782145 15269.65350487\n",
      "  8352.0773264  31738.37507699 35819.0919374  31547.64757647\n",
      "  6063.62004331 12551.29214568  6068.87670979 14599.41823771\n",
      "  2561.45561332 32910.51327403  6315.23815745  4979.52619562\n",
      " 14384.66253028  6884.14533684 38706.08936188  3136.57875731\n",
      "  5933.09672913 31625.64350684 11596.31482335  8417.73814018\n",
      " 14754.03399782  9879.46313846 27160.43717287 33395.00044119\n",
      " 14499.08558691  1735.96411757 13118.53913261  2176.90038413\n",
      "  5388.3723652  11622.93526416 39740.86555088 36545.08554993\n",
      " 33944.7368711   3840.12640295  7412.53476742  8602.72483011\n",
      " 12382.55575653  4865.6463079   1994.45684083 32178.79507351\n",
      " 25053.78358388 17536.06907271 26471.06879885 10217.73115571\n",
      " 37210.3346986   -477.16780371  6841.29733603  7720.38130108\n",
      "  4324.62825932  5148.0933114   5866.88847075  4252.37584458\n",
      " 15235.17791982 11184.09152901  6865.81092558  2473.47336319\n",
      "  1492.04619416 31876.36248207 16467.91708528 12070.84318949\n",
      "  1321.2739762  12481.98404136  1516.49611385  8688.35998638\n",
      "  1929.99456629 33965.04310923 10902.16179703  2652.65198314\n",
      " 25737.23494393 26409.75401731  9484.12006941  1858.05146312\n",
      " 13312.36096237  1075.29369445 10343.96143124 10640.16353845\n",
      " 16869.18074438 26909.56154116  7008.93073183  5143.45838554\n",
      "  5911.31580735 13297.21771797 11170.92069347  8419.97039114\n",
      "  5174.40556158 12343.87783448 13902.30234269 35823.29733596\n",
      "  4200.49918603 28974.98455685  -959.29164157  2918.94252879\n",
      " 11110.5125204  15731.80607464  5263.76292369  6952.83452504\n",
      "  3804.57987076 31256.71206045  7305.58851362 12461.33830574\n",
      "  5664.21701114  9467.26109398 36360.68777321  4486.61219507\n",
      "  9633.32288878 31093.62476199  5787.94047478  4665.96142198\n",
      "  1100.68575505  4877.83258252  4521.289931    6448.7580369\n",
      " 18700.99259398 -1483.15281815  2319.79804103 10631.36072374\n",
      "  3100.2784844  10170.02300527  3777.51558282  5184.56040253\n",
      " 12348.21008641  6259.90128781  8190.47916435  7537.06854145\n",
      "  8973.20505699 10544.17289411 27868.40112099 39116.96866869\n",
      " 11814.55556842  7638.1077356  40959.08172164 12258.22852853]\n",
      "\n",
      "The accuracy score:  0.7833463107364539\n"
     ]
    }
   ],
   "source": [
    "fit_model(LinearRegression(), X_train, X_test, y_train, y_test)"
   ]
  },
  {
   "cell_type": "markdown",
   "id": "be56c8ec",
   "metadata": {},
   "source": [
    "### 2. Random Forest Regression"
   ]
  },
  {
   "cell_type": "code",
   "execution_count": 32,
   "id": "a33166e4",
   "metadata": {},
   "outputs": [
    {
     "name": "stdout",
     "output_type": "stream",
     "text": [
      "The predicted values:\n",
      "  [11112.9560359   5238.0343565  28420.651286   11496.6638001\n",
      " 34489.4804588   9250.3103624   2165.379458   14518.2630487\n",
      "  7122.2014133  10647.2087038  19986.4791456   7079.87129\n",
      "  4587.452492   45435.6565863  48310.7157248  45231.3550976\n",
      " 10120.3639175  43396.712603    9276.7186797  24238.6778208\n",
      "  5245.6920938   9819.1354197   1789.9797818   2743.5064726\n",
      " 12268.8893882  11932.8873992  13438.5239036   6504.0064692\n",
      " 10641.6731065   3699.91600509  7788.1926457  12003.0205225\n",
      "  2568.9137927   6138.5049933   3067.595034   11151.9990908\n",
      "  3115.2678447   8231.328034   23911.2928095  39396.4327565\n",
      "  7739.4583842   3836.5006961  12643.0905048  13945.2786584\n",
      "  6400.7149687  16539.5407751  16126.7853642   4925.5003545\n",
      " 41732.5269603   6619.9815317  14022.0041566   1846.6855824\n",
      "  6942.203688    1738.9749185  11815.5789531  11017.1807885\n",
      "  3802.7722958  45907.7159579  13092.4827012  14673.6450545\n",
      " 13673.9140775   7362.1492713  20451.1310651   8056.0553807\n",
      " 11579.2221333   6222.5999332  18693.6933449  16312.1494428\n",
      "  7944.3548271   2132.0680415   7247.1983997  10152.0314676\n",
      "  9225.6902734  10396.052637    8249.3693999   5026.86027\n",
      "  8092.8696327  13102.8682569   4716.3414387   9926.476841\n",
      "  1746.6028851  28216.5989422   5567.408663   38118.1074792\n",
      " 40663.640044   41923.5279713   5300.6353824  13687.2288028\n",
      "  9400.6242125  14178.575927   19395.295732   26802.3597412\n",
      " 29531.1255823   5565.4348873  46248.9176781   7607.7478005\n",
      " 19619.85683     2283.661667   17809.8109763  10427.8398105\n",
      "  5346.9026183   1762.003518    6611.8274339  14760.8594085\n",
      " 13783.6962681   6724.810407    8913.8703667  23040.3410631\n",
      "  1812.7700078  23925.8559703   1303.546201    3812.6067731\n",
      " 12252.1520805  40029.7790789  11351.6782391   4852.9768191\n",
      " 12854.778089   25253.6669728   7162.678508    6615.843571\n",
      "  7447.8526022  11262.1554655  17627.697679    2193.6949835\n",
      "  8051.3606444   7737.9960796  12014.6842568  10719.8242418\n",
      " 15341.57239     3472.4941829   4071.5948495   6517.9514196\n",
      "  6153.5575868  11633.6889164   6140.4378819  25660.663702\n",
      "  6401.142186   39199.5418476  46373.537926   39035.9774856\n",
      "  5208.0747899  12826.1367922   2555.1564315  16807.3078795\n",
      "  2629.4092184  24494.9422558   5835.4649588   4452.5051939\n",
      " 11183.3151505   5458.5547215  50183.0003836   6902.842984\n",
      "  2089.2957897  45885.4594675   6440.175976    5389.1720296\n",
      " 13573.2670455  10820.5210396  35881.6516351  39355.859267\n",
      " 13897.1116247   4599.1224509  22911.8976356   4805.5077134\n",
      "  4169.5526036   7971.9207239  48284.0587993  44011.750632\n",
      " 40283.1105184   5638.7307505  11130.7838144   6837.1812782\n",
      "  8460.6939741   4579.3535246   2450.2956729  23577.3452895\n",
      " 16923.1510095  14338.7261409  16534.009639   11485.988547\n",
      " 28569.8219862   6819.67620797  9462.5579029   6880.3425718\n",
      "  8637.6211678   4900.4923718   6363.1924214   4638.2718414\n",
      "  8876.2841471  12076.8416146   4216.7612223   4790.62600518\n",
      "  2588.90264817 48182.2653763  13128.066732    9603.1820221\n",
      "  4784.9040673  16195.0222156   2638.32526325 10432.5566145\n",
      "  3388.3318149  24199.9319149   7966.9406843   7538.6809336\n",
      " 18562.4804341  18515.6655146  10619.7266054   9925.389851\n",
      "  9912.563115    4584.1119277  15216.4840777  12881.4004864\n",
      " 10338.1812692  18304.1042015   8511.626788    4110.8795987\n",
      "  4985.2913044  14206.4567879  15771.892127    5366.4947145\n",
      "  2286.6749201   9347.09394     7583.5182997  44598.5734763\n",
      "  2193.5654016  37927.9959129   1719.611215    1678.933968\n",
      "  9941.1384535  11244.9026531   2331.3104863   9786.6469492\n",
      "  5564.0848403  26066.0787898  11847.8925093  10088.5435727\n",
      "  5502.6812029   8245.740786   44772.1784078   2310.6107938\n",
      " 13374.1382388  39951.3227082   3667.9810872   3409.707268\n",
      "  1633.111865    2962.2206342   4597.2852624   4674.9286913\n",
      " 14439.5165904   1851.9265994   1881.840564    8458.424529\n",
      "  3957.3700439  11500.647632    6230.1316697   4474.3271567\n",
      " 13198.9509545   6488.0259873  10040.6605271   7481.3437169\n",
      "  7673.718436   14006.4939899  18899.373198   47290.2090747\n",
      " 12875.8305811   6384.0700499  46616.4827231   9691.2249945 ]\n",
      "\n",
      "The accuracy score:  0.8625317527302351\n"
     ]
    }
   ],
   "source": [
    "fit_model(RandomForestRegressor(), X_train, X_test, y_train, y_test)"
   ]
  },
  {
   "cell_type": "markdown",
   "id": "2bfcec3c",
   "metadata": {},
   "source": [
    "### 3. Support Vector Regression"
   ]
  },
  {
   "cell_type": "code",
   "execution_count": 36,
   "id": "bfb201f1",
   "metadata": {},
   "outputs": [
    {
     "name": "stdout",
     "output_type": "stream",
     "text": [
      "The predicted values:\n",
      "  [ 9022.8919659   8622.03943935 10810.36359415  9108.36632129\n",
      "  8044.19656684  8796.46666252  7972.16559291 11414.94243351\n",
      "  8120.09071668  9421.24090213  8274.67951257  8916.57651058\n",
      "  8312.38318917  9648.39535569 11063.97688141  9612.35652053\n",
      "  9931.23430762  9529.76863765  9175.25404465  8941.81392205\n",
      "  8116.99377662  9102.99304866  8031.81846058  8204.86610457\n",
      "  9480.88908475 10002.65426732 10761.42082062  8253.75224653\n",
      "  9201.08447242  8008.45082172  8827.54983239 10268.8104731\n",
      "  8121.45860888  8211.76214631  8215.57777446  9469.49108345\n",
      "  8042.46624646  9025.6644237   9501.07319141  8736.31478555\n",
      "  8018.87121106  8112.95745406 10347.61955273 10190.66643082\n",
      "  8591.15760827 10287.61555862  8109.47323444  8120.29748108\n",
      "  9202.21053546  8544.63243822 11193.42129098  8003.00546377\n",
      "  9142.29756249  7979.10286416 10283.27928311  9620.31934126\n",
      "  8286.43993585  8472.64852527 10437.21162432  9930.23646329\n",
      " 10951.07234509  8584.66876466 10939.72478184  8833.95280962\n",
      "  9745.27405712  8226.30767305  8037.87758628  9586.09039284\n",
      "  8099.89391073  8202.52826119  8894.04917998  9305.59802115\n",
      "  9496.02208999  8840.82592     9337.44473855  8620.67815778\n",
      "  8283.52799723  9905.38609457  8326.2966026   9041.72616996\n",
      "  8080.42704684 10568.8022464   8435.51719526  8201.24677218\n",
      "  8374.15476386  9608.2522466   8382.84289573 10107.04434739\n",
      "  9046.53845554 10077.53967285 11163.77643057 10612.96679013\n",
      "  9186.19153677  8357.80070522  8591.01900274  8960.3634028\n",
      "  8420.11983057  8077.23660589  8262.85827162  8449.26582692\n",
      "  8331.20053195  8019.66563567  9180.41557604 10365.37016511\n",
      " 10313.70393599  8048.87948694  9115.57844825  9468.06037381\n",
      "  7948.7497952   9539.35983537  8054.41285716  8454.85658021\n",
      " 10401.04625898  8562.80940528  9488.28823256  8078.03531265\n",
      " 10438.43004501  8940.76992192  8692.7679935   8098.68622143\n",
      "  8588.46761338  9011.86407104 10046.13722837  8223.32001423\n",
      "  8199.74660191  8980.89034484  9188.85175982  9456.20125362\n",
      " 10648.24001362  8265.91030212  8418.7043288   8664.43752261\n",
      "  8696.22434341  9418.77086837  8850.67747323 10746.92198473\n",
      "  8578.40262323  8964.1319273   9363.81864585  8689.77699907\n",
      "  8558.31418671  9771.69280064  8286.44851562 10012.42629842\n",
      "  8134.55112638  9320.7695445   8436.16771507  8381.35293466\n",
      "  9872.94942274  8584.81397274 10085.97276442  8105.83118808\n",
      "  8100.91942273  8501.95536209  8983.79823301  8616.67341512\n",
      " 10841.2942271   9288.55648417  8054.43702962  8909.92641058\n",
      " 10376.34181912  7995.40435646 10750.93096585  8070.11402454\n",
      "  8156.79095198  9164.41159551 11274.92950152 10240.18161869\n",
      "  9132.41349867  8187.28607869  9181.97895617  8844.26690335\n",
      "  9105.39761815  8330.94614198  8071.4989855   9167.11654653\n",
      "  8010.7146734  11567.30967034  8245.79521678  9897.64457085\n",
      " 10734.9376903   7966.94924485  8995.07248473  8599.48795513\n",
      "  8213.95466233  8192.08984067  8312.36034084  8320.94091683\n",
      "  9842.87918159  9893.73450142  8207.72503737  8000.62414453\n",
      "  8035.30188348  8507.3431268  11204.87110729  9781.45186014\n",
      "  7986.42135226  9851.53278412  7980.30323689  9393.46642415\n",
      "  8122.40477924  9616.67408855  8606.06470655  8007.22446983\n",
      "  8024.53090942  8180.52481143  9418.92672644  8020.45510298\n",
      "  9739.91914883  8083.09125795 10319.01919762  9933.61258334\n",
      "  9852.11144554  8178.8051916   8722.67627757  8322.87585526\n",
      "  8450.16256828 10303.71195696 10252.29973435  8660.16032237\n",
      "  8129.85701926  9381.60904913  9077.81274846  9264.04373576\n",
      "  8120.34031655  8306.47498907  7959.78711297  8032.86284182\n",
      "  9631.12946041  9886.94717368  8142.13397046  9218.82461786\n",
      "  8242.50833465  8968.5682019   9300.99536537  9706.81817032\n",
      "  8226.39647223  9075.33263388  9259.3675557   8138.05889492\n",
      "  9976.29775194  8406.04360707  8238.54646463  8213.95015757\n",
      "  7991.05705709  8227.84043579  8248.65295438  8464.87056591\n",
      " 10414.70497342  7939.81338032  8047.27114594  8979.30113728\n",
      "  8224.92473638  9857.41735804  8043.27965516  8210.92609144\n",
      " 10458.06838825  8265.95833785  9215.67721177  8404.50478103\n",
      "  8810.11009999 10197.25325658  8236.60382141 11128.97148211\n",
      " 10164.41210658  8682.52374187 10663.84821459  9788.06209361]\n",
      "\n",
      "The accuracy score:  -0.051147626521629075\n"
     ]
    }
   ],
   "source": [
    "fit_model(SVR(kernel='poly'), X_train, X_test, y_train, y_test)"
   ]
  },
  {
   "cell_type": "markdown",
   "id": "dd04ab61",
   "metadata": {},
   "source": [
    "### 4. XGB Regression"
   ]
  },
  {
   "cell_type": "code",
   "execution_count": 34,
   "id": "1fe7025c",
   "metadata": {},
   "outputs": [
    {
     "name": "stdout",
     "output_type": "stream",
     "text": [
      "The predicted values:\n",
      "  [ 9952.002    8006.149   31733.793    9106.456   32759.762    5811.8384\n",
      "   934.72034 13923.816    3368.3289  10390.483   21790.98    10314.691\n",
      "  4455.6772  44994.36    47582.145   42441.773    8651.279   42901.22\n",
      "  9143.483   24500.207    3147.9011   8845.929     299.23764  2217.689\n",
      " 11827.646   12958.314   13419.277    6353.491    9468.46     4402.771\n",
      "  8389.459   13271.873    2500.2183   4113.619    4052.427    9744.533\n",
      "  2632.113    6532.2866  26423.818   38255.848    6093.879    4089.6902\n",
      " 12491.879   13031.254    7283.2056  12648.211   12788.192    5423.895\n",
      " 41580.32     7975.2793  12391.434    2161.631    5414.5317   1343.9741\n",
      " 10799.222   10173.212    1954.8982  39415.434   13570.195   13830.7705\n",
      " 13389.605    4668.3345  19838.75    11453.604   11997.759    5547.64\n",
      " 16536.43    13684.498    3971.5195   1968.5654   7525.9546  13186.116\n",
      " 11113.013    7669.0728   8872.386    4977.7925   8039.34    12225.466\n",
      "  5591.512   10242.001    1522.5005  27522.053    8245.394   36069.195\n",
      " 40487.453   43051.074    4729.359   10968.911   10076.242   13300.286\n",
      " 23813.3     26794.95    28744.201    7324.0576  47167.2      6187.63\n",
      " 19749.23     2682.6406  19652.875   10100.514    4246.0957   1764.2382\n",
      "  6638.509   13154.033   12797.197    3570.307    9849.203   20741.488\n",
      "  1394.6211  22680.676    -364.33017  3666.3403  12209.509   38865.8\n",
      "  9670.261    2366.1726  11567.866   23744.695    6797.45     4982.731\n",
      "  5109.589   10388.224   16690.098    3801.0417   6425.588    6908.8457\n",
      "  9430.737    8327.072   18043.701    2443.0627   2981.5283   6875.909\n",
      "  7473.827   13988.255    9236.01    23682.11     4826.431   41726.39\n",
      " 44989.797   37807.113    6133.164   10172.04     3327.5715  14997.793\n",
      "  1955.2422  24176.05     4592.818    3022.1587  12148.277    4990.627\n",
      " 51486.727    5058.9214   2404.6587  37881.523    5722.088    4193.984\n",
      " 13683.196    9318.297   34737.547   38171.74    12737.16     3923.895\n",
      " 17048.156    8381.835    2365.3306   7206.4536  48601.44    43656.215\n",
      " 42926.816    3927.071    9252.194    6676.657    7868.7188   4573.0225\n",
      "  5944.652   22295.25    14723.397   13072.67    15951.337   11711.889\n",
      " 27494.73     1438.6838   8244.549    4927.06     4602.4927   7806.728\n",
      "  9793.149    5144.069    8194.609   11697.971    3144.2317   3636.994\n",
      "  4602.636   50426.81    18269.246    8169.5767   5065.933   12242.811\n",
      "  1496.0402  11928.564    2969.9023  27472.986    5646.34     6665.6406\n",
      " 20201.342   19182.96     8476.672    9473.961   10254.922    3123.5903\n",
      " 12493.108   11266.727   11699.31    20128.186   11500.964    3883.9114\n",
      "  4493.927   15554.18    16903.201    4398.7754   2948.768    9130.615\n",
      "  6854.177   44089.562     337.26224 36584.453    1499.9276   2020.1943\n",
      "  8380.721   10036.333    1402.5079  10432.588    5758.1504  24457.16\n",
      " 12514.559    8533.483    5815.7603   7175.412   45294.48     3169.5947\n",
      " 15013.537   38951.13     4230.9414   3794.291    1312.1439   2905.257\n",
      "  5839.2725   2626.6902  13813.893    1152.8174   4060.027    7832.141\n",
      "  2990.1882  10396.271    4032.378    4339.1504  11314.697    8849.521\n",
      "  9016.794    8055.0615   6489.856   14128.277   20507.043   45839.65\n",
      " 10211.675    5896.9155  47879.36     8892.038  ]\n",
      "\n",
      "The accuracy score:  0.855507629258488\n"
     ]
    }
   ],
   "source": [
    "fit_model(XGBRegressor(), X_train, X_test, y_train, y_test)"
   ]
  },
  {
   "cell_type": "code",
   "execution_count": null,
   "id": "e5e86261",
   "metadata": {},
   "outputs": [],
   "source": []
  }
 ],
 "metadata": {
  "kernelspec": {
   "display_name": "Python 3 (ipykernel)",
   "language": "python",
   "name": "python3"
  },
  "language_info": {
   "codemirror_mode": {
    "name": "ipython",
    "version": 3
   },
   "file_extension": ".py",
   "mimetype": "text/x-python",
   "name": "python",
   "nbconvert_exporter": "python",
   "pygments_lexer": "ipython3",
   "version": "3.9.7"
  }
 },
 "nbformat": 4,
 "nbformat_minor": 5
}
