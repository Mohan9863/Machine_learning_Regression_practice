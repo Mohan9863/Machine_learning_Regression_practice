{
 "cells": [
  {
   "cell_type": "markdown",
   "id": "2663cef9",
   "metadata": {},
   "source": [
    "# Car Price Predictor"
   ]
  },
  {
   "cell_type": "markdown",
   "id": "e8a62f92",
   "metadata": {},
   "source": [
    "###  Importing the libraries"
   ]
  },
  {
   "cell_type": "code",
   "execution_count": 1,
   "id": "3bc0d557",
   "metadata": {},
   "outputs": [],
   "source": [
    "import pandas as pd\n",
    "import numpy as np\n",
    "import seaborn as sns\n",
    "import matplotlib.pyplot as plt\n",
    "import warnings\n",
    "warnings.filterwarnings('ignore')\n",
    "%matplotlib inline\n",
    "sns.set_style('whitegrid')"
   ]
  },
  {
   "cell_type": "markdown",
   "id": "59cae31b",
   "metadata": {},
   "source": [
    "### Importing the dataset"
   ]
  },
  {
   "cell_type": "code",
   "execution_count": 2,
   "id": "6f95c80d",
   "metadata": {},
   "outputs": [],
   "source": [
    "car_df = pd.read_csv('car_data.csv')"
   ]
  },
  {
   "cell_type": "code",
   "execution_count": 3,
   "id": "9b41b61f",
   "metadata": {},
   "outputs": [
    {
     "data": {
      "text/html": [
       "<div>\n",
       "<style scoped>\n",
       "    .dataframe tbody tr th:only-of-type {\n",
       "        vertical-align: middle;\n",
       "    }\n",
       "\n",
       "    .dataframe tbody tr th {\n",
       "        vertical-align: top;\n",
       "    }\n",
       "\n",
       "    .dataframe thead th {\n",
       "        text-align: right;\n",
       "    }\n",
       "</style>\n",
       "<table border=\"1\" class=\"dataframe\">\n",
       "  <thead>\n",
       "    <tr style=\"text-align: right;\">\n",
       "      <th></th>\n",
       "      <th>name</th>\n",
       "      <th>company</th>\n",
       "      <th>year</th>\n",
       "      <th>Price</th>\n",
       "      <th>kms_driven</th>\n",
       "      <th>fuel_type</th>\n",
       "    </tr>\n",
       "  </thead>\n",
       "  <tbody>\n",
       "    <tr>\n",
       "      <th>0</th>\n",
       "      <td>Hyundai Santro Xing XO eRLX Euro III</td>\n",
       "      <td>Hyundai</td>\n",
       "      <td>2007</td>\n",
       "      <td>80,000</td>\n",
       "      <td>45,000 kms</td>\n",
       "      <td>Petrol</td>\n",
       "    </tr>\n",
       "    <tr>\n",
       "      <th>1</th>\n",
       "      <td>Mahindra Jeep CL550 MDI</td>\n",
       "      <td>Mahindra</td>\n",
       "      <td>2006</td>\n",
       "      <td>4,25,000</td>\n",
       "      <td>40 kms</td>\n",
       "      <td>Diesel</td>\n",
       "    </tr>\n",
       "    <tr>\n",
       "      <th>2</th>\n",
       "      <td>Maruti Suzuki Alto 800 Vxi</td>\n",
       "      <td>Maruti</td>\n",
       "      <td>2018</td>\n",
       "      <td>Ask For Price</td>\n",
       "      <td>22,000 kms</td>\n",
       "      <td>Petrol</td>\n",
       "    </tr>\n",
       "    <tr>\n",
       "      <th>3</th>\n",
       "      <td>Hyundai Grand i10 Magna 1.2 Kappa VTVT</td>\n",
       "      <td>Hyundai</td>\n",
       "      <td>2014</td>\n",
       "      <td>3,25,000</td>\n",
       "      <td>28,000 kms</td>\n",
       "      <td>Petrol</td>\n",
       "    </tr>\n",
       "    <tr>\n",
       "      <th>4</th>\n",
       "      <td>Ford EcoSport Titanium 1.5L TDCi</td>\n",
       "      <td>Ford</td>\n",
       "      <td>2014</td>\n",
       "      <td>5,75,000</td>\n",
       "      <td>36,000 kms</td>\n",
       "      <td>Diesel</td>\n",
       "    </tr>\n",
       "  </tbody>\n",
       "</table>\n",
       "</div>"
      ],
      "text/plain": [
       "                                     name   company  year          Price  \\\n",
       "0    Hyundai Santro Xing XO eRLX Euro III   Hyundai  2007         80,000   \n",
       "1                 Mahindra Jeep CL550 MDI  Mahindra  2006       4,25,000   \n",
       "2              Maruti Suzuki Alto 800 Vxi    Maruti  2018  Ask For Price   \n",
       "3  Hyundai Grand i10 Magna 1.2 Kappa VTVT   Hyundai  2014       3,25,000   \n",
       "4        Ford EcoSport Titanium 1.5L TDCi      Ford  2014       5,75,000   \n",
       "\n",
       "   kms_driven fuel_type  \n",
       "0  45,000 kms    Petrol  \n",
       "1      40 kms    Diesel  \n",
       "2  22,000 kms    Petrol  \n",
       "3  28,000 kms    Petrol  \n",
       "4  36,000 kms    Diesel  "
      ]
     },
     "execution_count": 3,
     "metadata": {},
     "output_type": "execute_result"
    }
   ],
   "source": [
    "car_df.head()"
   ]
  },
  {
   "cell_type": "code",
   "execution_count": 4,
   "id": "b6219e64",
   "metadata": {},
   "outputs": [
    {
     "data": {
      "text/html": [
       "<div>\n",
       "<style scoped>\n",
       "    .dataframe tbody tr th:only-of-type {\n",
       "        vertical-align: middle;\n",
       "    }\n",
       "\n",
       "    .dataframe tbody tr th {\n",
       "        vertical-align: top;\n",
       "    }\n",
       "\n",
       "    .dataframe thead th {\n",
       "        text-align: right;\n",
       "    }\n",
       "</style>\n",
       "<table border=\"1\" class=\"dataframe\">\n",
       "  <thead>\n",
       "    <tr style=\"text-align: right;\">\n",
       "      <th></th>\n",
       "      <th>name</th>\n",
       "      <th>company</th>\n",
       "      <th>year</th>\n",
       "      <th>Price</th>\n",
       "      <th>kms_driven</th>\n",
       "      <th>fuel_type</th>\n",
       "    </tr>\n",
       "  </thead>\n",
       "  <tbody>\n",
       "    <tr>\n",
       "      <th>887</th>\n",
       "      <td>Ta</td>\n",
       "      <td>Tara</td>\n",
       "      <td>zest</td>\n",
       "      <td>3,10,000</td>\n",
       "      <td>NaN</td>\n",
       "      <td>NaN</td>\n",
       "    </tr>\n",
       "    <tr>\n",
       "      <th>888</th>\n",
       "      <td>Tata Zest XM Diesel</td>\n",
       "      <td>Tata</td>\n",
       "      <td>2018</td>\n",
       "      <td>2,60,000</td>\n",
       "      <td>27,000 kms</td>\n",
       "      <td>Diesel</td>\n",
       "    </tr>\n",
       "    <tr>\n",
       "      <th>889</th>\n",
       "      <td>Mahindra Quanto C8</td>\n",
       "      <td>Mahindra</td>\n",
       "      <td>2013</td>\n",
       "      <td>3,90,000</td>\n",
       "      <td>40,000 kms</td>\n",
       "      <td>Diesel</td>\n",
       "    </tr>\n",
       "    <tr>\n",
       "      <th>890</th>\n",
       "      <td>Honda Amaze 1.2 E i VTEC</td>\n",
       "      <td>Honda</td>\n",
       "      <td>2014</td>\n",
       "      <td>1,80,000</td>\n",
       "      <td>Petrol</td>\n",
       "      <td>NaN</td>\n",
       "    </tr>\n",
       "    <tr>\n",
       "      <th>891</th>\n",
       "      <td>Chevrolet Sail 1.2 LT ABS</td>\n",
       "      <td>Chevrolet</td>\n",
       "      <td>2014</td>\n",
       "      <td>1,60,000</td>\n",
       "      <td>Petrol</td>\n",
       "      <td>NaN</td>\n",
       "    </tr>\n",
       "  </tbody>\n",
       "</table>\n",
       "</div>"
      ],
      "text/plain": [
       "                          name    company  year     Price  kms_driven  \\\n",
       "887                         Ta       Tara  zest  3,10,000         NaN   \n",
       "888        Tata Zest XM Diesel       Tata  2018  2,60,000  27,000 kms   \n",
       "889         Mahindra Quanto C8   Mahindra  2013  3,90,000  40,000 kms   \n",
       "890   Honda Amaze 1.2 E i VTEC      Honda  2014  1,80,000      Petrol   \n",
       "891  Chevrolet Sail 1.2 LT ABS  Chevrolet  2014  1,60,000      Petrol   \n",
       "\n",
       "    fuel_type  \n",
       "887       NaN  \n",
       "888    Diesel  \n",
       "889    Diesel  \n",
       "890       NaN  \n",
       "891       NaN  "
      ]
     },
     "execution_count": 4,
     "metadata": {},
     "output_type": "execute_result"
    }
   ],
   "source": [
    "car_df.tail()"
   ]
  },
  {
   "cell_type": "code",
   "execution_count": 5,
   "id": "eb4ee43c",
   "metadata": {},
   "outputs": [
    {
     "data": {
      "text/plain": [
       "(892, 6)"
      ]
     },
     "execution_count": 5,
     "metadata": {},
     "output_type": "execute_result"
    }
   ],
   "source": [
    "car_df.shape"
   ]
  },
  {
   "cell_type": "code",
   "execution_count": 6,
   "id": "b1809ffe",
   "metadata": {},
   "outputs": [
    {
     "name": "stdout",
     "output_type": "stream",
     "text": [
      "<class 'pandas.core.frame.DataFrame'>\n",
      "RangeIndex: 892 entries, 0 to 891\n",
      "Data columns (total 6 columns):\n",
      " #   Column      Non-Null Count  Dtype \n",
      "---  ------      --------------  ----- \n",
      " 0   name        892 non-null    object\n",
      " 1   company     892 non-null    object\n",
      " 2   year        892 non-null    object\n",
      " 3   Price       892 non-null    object\n",
      " 4   kms_driven  840 non-null    object\n",
      " 5   fuel_type   837 non-null    object\n",
      "dtypes: object(6)\n",
      "memory usage: 41.9+ KB\n"
     ]
    }
   ],
   "source": [
    "car_df.info()"
   ]
  },
  {
   "cell_type": "code",
   "execution_count": 7,
   "id": "8cbc651f",
   "metadata": {},
   "outputs": [
    {
     "data": {
      "text/plain": [
       "name           0\n",
       "company        0\n",
       "year           0\n",
       "Price          0\n",
       "kms_driven    52\n",
       "fuel_type     55\n",
       "dtype: int64"
      ]
     },
     "execution_count": 7,
     "metadata": {},
     "output_type": "execute_result"
    }
   ],
   "source": [
    "car_df.isnull().sum()"
   ]
  },
  {
   "cell_type": "code",
   "execution_count": 8,
   "id": "90ec121c",
   "metadata": {},
   "outputs": [
    {
     "data": {
      "text/plain": [
       "array(['Hyundai', 'Mahindra', 'Maruti', 'Ford', 'Skoda', 'Audi', 'Toyota',\n",
       "       'Renault', 'Honda', 'Datsun', 'Mitsubishi', 'Tata', 'Volkswagen',\n",
       "       'I', 'Chevrolet', 'Mini', 'BMW', 'Nissan', 'Hindustan', 'Fiat',\n",
       "       'Commercial', 'MARUTI', 'Force', 'Mercedes', 'Land', 'Yamaha',\n",
       "       'selling', 'URJENT', 'Swift', 'Used', 'Jaguar', 'Jeep', 'tata',\n",
       "       'Sale', 'very', 'Volvo', 'i', '2012', 'Well', 'all', '7', '9',\n",
       "       'scratch', 'urgent', 'sell', 'TATA', 'Any', 'Tara'], dtype=object)"
      ]
     },
     "execution_count": 8,
     "metadata": {},
     "output_type": "execute_result"
    }
   ],
   "source": [
    "car_df.company.unique()"
   ]
  },
  {
   "cell_type": "code",
   "execution_count": 9,
   "id": "36ff8af6",
   "metadata": {},
   "outputs": [
    {
     "name": "stdout",
     "output_type": "stream",
     "text": [
      "['2007' '2006' '2018' '2014' '2015' '2012' '2013' '2016' '2010' '2017'\n",
      " '2008' '2011' '2019' '2009' '2005' '2000' '...' '150k' 'TOUR' '2003'\n",
      " 'r 15' '2004' 'Zest' '/-Rs' 'sale' '1995' 'ara)' '2002' 'SELL' '2001'\n",
      " 'tion' 'odel' '2 bs' 'arry' 'Eon' 'o...' 'ture' 'emi' 'car' 'able' 'no.'\n",
      " 'd...' 'SALE' 'digo' 'sell' 'd Ex' 'n...' 'e...' 'D...' ', Ac' 'go .'\n",
      " 'k...' 'o c4' 'zire' 'cent' 'Sumo' 'cab' 't xe' 'EV2' 'r...' 'zest']\n"
     ]
    }
   ],
   "source": [
    "print(car_df.year.unique())"
   ]
  },
  {
   "cell_type": "code",
   "execution_count": 10,
   "id": "fdc55923",
   "metadata": {},
   "outputs": [
    {
     "data": {
      "text/plain": [
       "array(['80,000', '4,25,000', 'Ask For Price', '3,25,000', '5,75,000',\n",
       "       '1,75,000', '1,90,000', '8,30,000', '2,50,000', '1,82,000',\n",
       "       '3,15,000', '4,15,000', '3,20,000', '10,00,000', '5,00,000',\n",
       "       '3,50,000', '1,60,000', '3,10,000', '75,000', '1,00,000',\n",
       "       '2,90,000', '95,000', '1,80,000', '3,85,000', '1,05,000',\n",
       "       '6,50,000', '6,89,999', '4,48,000', '5,49,000', '5,01,000',\n",
       "       '4,89,999', '2,80,000', '3,49,999', '2,84,999', '3,45,000',\n",
       "       '4,99,999', '2,35,000', '2,49,999', '14,75,000', '3,95,000',\n",
       "       '2,20,000', '1,70,000', '85,000', '2,00,000', '5,70,000',\n",
       "       '1,10,000', '4,48,999', '18,91,111', '1,59,500', '3,44,999',\n",
       "       '4,49,999', '8,65,000', '6,99,000', '3,75,000', '2,24,999',\n",
       "       '12,00,000', '1,95,000', '3,51,000', '2,40,000', '90,000',\n",
       "       '1,55,000', '6,00,000', '1,89,500', '2,10,000', '3,90,000',\n",
       "       '1,35,000', '16,00,000', '7,01,000', '2,65,000', '5,25,000',\n",
       "       '3,72,000', '6,35,000', '5,50,000', '4,85,000', '3,29,500',\n",
       "       '2,51,111', '5,69,999', '69,999', '2,99,999', '3,99,999',\n",
       "       '4,50,000', '2,70,000', '1,58,400', '1,79,000', '1,25,000',\n",
       "       '2,99,000', '1,50,000', '2,75,000', '2,85,000', '3,40,000',\n",
       "       '70,000', '2,89,999', '8,49,999', '7,49,999', '2,74,999',\n",
       "       '9,84,999', '5,99,999', '2,44,999', '4,74,999', '2,45,000',\n",
       "       '1,69,500', '3,70,000', '1,68,000', '1,45,000', '98,500',\n",
       "       '2,09,000', '1,85,000', '9,00,000', '6,99,999', '1,99,999',\n",
       "       '5,44,999', '1,99,000', '5,40,000', '49,000', '7,00,000', '55,000',\n",
       "       '8,95,000', '3,55,000', '5,65,000', '3,65,000', '40,000',\n",
       "       '4,00,000', '3,30,000', '5,80,000', '3,79,000', '2,19,000',\n",
       "       '5,19,000', '7,30,000', '20,00,000', '21,00,000', '14,00,000',\n",
       "       '3,11,000', '8,55,000', '5,35,000', '1,78,000', '3,00,000',\n",
       "       '2,55,000', '5,49,999', '3,80,000', '57,000', '4,10,000',\n",
       "       '2,25,000', '1,20,000', '59,000', '5,99,000', '6,75,000', '72,500',\n",
       "       '6,10,000', '2,30,000', '5,20,000', '5,24,999', '4,24,999',\n",
       "       '6,44,999', '5,84,999', '7,99,999', '4,44,999', '6,49,999',\n",
       "       '9,44,999', '5,74,999', '3,74,999', '1,30,000', '4,01,000',\n",
       "       '13,50,000', '1,74,999', '2,39,999', '99,999', '3,24,999',\n",
       "       '10,74,999', '11,30,000', '1,49,000', '7,70,000', '30,000',\n",
       "       '3,35,000', '3,99,000', '65,000', '1,69,999', '1,65,000',\n",
       "       '5,60,000', '9,50,000', '7,15,000', '45,000', '9,40,000',\n",
       "       '1,55,555', '15,00,000', '4,95,000', '8,00,000', '12,99,000',\n",
       "       '5,30,000', '14,99,000', '32,000', '4,05,000', '7,60,000',\n",
       "       '7,50,000', '4,19,000', '1,40,000', '15,40,000', '1,23,000',\n",
       "       '4,98,000', '4,80,000', '4,88,000', '15,25,000', '5,48,900',\n",
       "       '7,25,000', '99,000', '52,000', '28,00,000', '4,99,000',\n",
       "       '3,81,000', '2,78,000', '6,90,000', '2,60,000', '90,001',\n",
       "       '1,15,000', '15,99,000', '1,59,000', '51,999', '2,15,000',\n",
       "       '35,000', '11,50,000', '2,69,000', '60,000', '4,30,000',\n",
       "       '85,00,003', '4,01,919', '4,90,000', '4,24,000', '2,05,000',\n",
       "       '5,49,900', '3,71,500', '4,35,000', '1,89,700', '3,89,700',\n",
       "       '3,60,000', '2,95,000', '1,14,990', '10,65,000', '4,70,000',\n",
       "       '48,000', '1,88,000', '4,65,000', '1,79,999', '21,90,000',\n",
       "       '23,90,000', '10,75,000', '4,75,000', '10,25,000', '6,15,000',\n",
       "       '19,00,000', '14,90,000', '15,10,000', '18,50,000', '7,90,000',\n",
       "       '17,25,000', '12,25,000', '68,000', '9,70,000', '31,00,000',\n",
       "       '8,99,000', '88,000', '53,000', '5,68,500', '71,000', '5,90,000',\n",
       "       '7,95,000', '42,000', '1,89,000', '1,62,000', '35,999',\n",
       "       '29,00,000', '39,999', '50,500', '5,10,000', '8,60,000',\n",
       "       '5,00,001'], dtype=object)"
      ]
     },
     "execution_count": 10,
     "metadata": {},
     "output_type": "execute_result"
    }
   ],
   "source": [
    "car_df.Price.unique()"
   ]
  },
  {
   "cell_type": "code",
   "execution_count": 11,
   "id": "1f52cf65",
   "metadata": {},
   "outputs": [
    {
     "data": {
      "text/plain": [
       "array(['45,000 kms', '40 kms', '22,000 kms', '28,000 kms', '36,000 kms',\n",
       "       '59,000 kms', '41,000 kms', '25,000 kms', '24,530 kms',\n",
       "       '60,000 kms', '30,000 kms', '32,000 kms', '48,660 kms',\n",
       "       '4,000 kms', '16,934 kms', '43,000 kms', '35,550 kms',\n",
       "       '39,522 kms', '39,000 kms', '55,000 kms', '72,000 kms',\n",
       "       '15,975 kms', '70,000 kms', '23,452 kms', '35,522 kms',\n",
       "       '48,508 kms', '15,487 kms', '82,000 kms', '20,000 kms',\n",
       "       '68,000 kms', '38,000 kms', '27,000 kms', '33,000 kms',\n",
       "       '46,000 kms', '16,000 kms', '47,000 kms', '35,000 kms',\n",
       "       '30,874 kms', '15,000 kms', '29,685 kms', '1,30,000 kms',\n",
       "       '19,000 kms', nan, '54,000 kms', '13,000 kms', '38,200 kms',\n",
       "       '50,000 kms', '13,500 kms', '3,600 kms', '45,863 kms',\n",
       "       '60,500 kms', '12,500 kms', '18,000 kms', '13,349 kms',\n",
       "       '29,000 kms', '44,000 kms', '42,000 kms', '14,000 kms',\n",
       "       '49,000 kms', '36,200 kms', '51,000 kms', '1,04,000 kms',\n",
       "       '33,333 kms', '33,600 kms', '5,600 kms', '7,500 kms', '26,000 kms',\n",
       "       '24,330 kms', '65,480 kms', '28,028 kms', '2,00,000 kms',\n",
       "       '99,000 kms', '2,800 kms', '21,000 kms', '11,000 kms',\n",
       "       '66,000 kms', '3,000 kms', '7,000 kms', '38,500 kms', '37,200 kms',\n",
       "       '43,200 kms', '24,800 kms', '45,872 kms', '40,000 kms',\n",
       "       '11,400 kms', '97,200 kms', '52,000 kms', '31,000 kms',\n",
       "       '1,75,430 kms', '37,000 kms', '65,000 kms', '3,350 kms',\n",
       "       '75,000 kms', '62,000 kms', '73,000 kms', '2,200 kms',\n",
       "       '54,870 kms', '34,580 kms', '97,000 kms', '60 kms', '80,200 kms',\n",
       "       '3,200 kms', '0,000 kms', '5,000 kms', '588 kms', '71,200 kms',\n",
       "       '1,75,400 kms', '9,300 kms', '56,758 kms', '10,000 kms',\n",
       "       '56,450 kms', '56,000 kms', '32,700 kms', '9,000 kms', '73 kms',\n",
       "       '1,60,000 kms', '84,000 kms', '58,559 kms', '57,000 kms',\n",
       "       '1,70,000 kms', '80,000 kms', '6,821 kms', '23,000 kms',\n",
       "       '34,000 kms', '1,800 kms', '4,00,000 kms', '48,000 kms',\n",
       "       '90,000 kms', '12,000 kms', '69,900 kms', '1,66,000 kms',\n",
       "       '122 kms', '0 kms', '24,000 kms', '36,469 kms', '7,800 kms',\n",
       "       '24,695 kms', '15,141 kms', '59,910 kms', '1,00,000 kms',\n",
       "       '4,500 kms', '1,29,000 kms', '300 kms', '1,31,000 kms',\n",
       "       '1,11,111 kms', '59,466 kms', '25,500 kms', '44,005 kms',\n",
       "       '2,110 kms', '43,222 kms', '1,00,200 kms', '65 kms',\n",
       "       '1,40,000 kms', '1,03,553 kms', '58,000 kms', '1,20,000 kms',\n",
       "       '49,800 kms', '100 kms', '81,876 kms', '6,020 kms', '55,700 kms',\n",
       "       '18,500 kms', '1,80,000 kms', '53,000 kms', '35,500 kms',\n",
       "       '22,134 kms', '1,000 kms', '8,500 kms', '87,000 kms', '6,000 kms',\n",
       "       '15,574 kms', '8,000 kms', '55,800 kms', '56,400 kms',\n",
       "       '72,160 kms', '11,500 kms', '1,33,000 kms', '2,000 kms',\n",
       "       '88,000 kms', '65,422 kms', '1,17,000 kms', '1,50,000 kms',\n",
       "       '10,750 kms', '6,800 kms', '5 kms', '9,800 kms', '57,923 kms',\n",
       "       '30,201 kms', '6,200 kms', '37,518 kms', '24,652 kms', '383 kms',\n",
       "       '95,000 kms', '3,528 kms', '52,500 kms', '47,900 kms',\n",
       "       '52,800 kms', '1,95,000 kms', '48,008 kms', '48,247 kms',\n",
       "       '9,400 kms', '64,000 kms', '2,137 kms', '10,544 kms', '49,500 kms',\n",
       "       '1,47,000 kms', '90,001 kms', '48,006 kms', '74,000 kms',\n",
       "       '85,000 kms', '29,500 kms', '39,700 kms', '67,000 kms',\n",
       "       '19,336 kms', '60,105 kms', '45,933 kms', '1,02,563 kms',\n",
       "       '28,600 kms', '41,800 kms', '1,16,000 kms', '42,590 kms',\n",
       "       '7,400 kms', '54,500 kms', '76,000 kms', '00 kms', '11,523 kms',\n",
       "       '38,600 kms', '95,500 kms', '37,458 kms', '85,960 kms',\n",
       "       '12,516 kms', '30,600 kms', '2,550 kms', '62,500 kms',\n",
       "       '69,000 kms', '28,400 kms', '68,485 kms', '3,500 kms',\n",
       "       '85,455 kms', '63,000 kms', '1,600 kms', '77,000 kms',\n",
       "       '26,500 kms', '2,875 kms', '13,900 kms', '1,500 kms', '2,450 kms',\n",
       "       '1,625 kms', '33,400 kms', '60,123 kms', '38,900 kms',\n",
       "       '1,37,495 kms', '91,200 kms', '1,46,000 kms', '1,00,800 kms',\n",
       "       '2,100 kms', '2,500 kms', '1,32,000 kms', 'Petrol'], dtype=object)"
      ]
     },
     "execution_count": 11,
     "metadata": {},
     "output_type": "execute_result"
    }
   ],
   "source": [
    "car_df.kms_driven.unique()"
   ]
  },
  {
   "cell_type": "code",
   "execution_count": 12,
   "id": "1461fed1",
   "metadata": {},
   "outputs": [
    {
     "data": {
      "text/plain": [
       "array(['Petrol', 'Diesel', nan, 'LPG'], dtype=object)"
      ]
     },
     "execution_count": 12,
     "metadata": {},
     "output_type": "execute_result"
    }
   ],
   "source": [
    "car_df.fuel_type.unique()"
   ]
  },
  {
   "cell_type": "markdown",
   "id": "7eb44146",
   "metadata": {},
   "source": [
    "## From the above car data:\n",
    "- Year has many non-year values and is of object type\n",
    "- Price is also object type and has 'Ask for Price' data\n",
    "- kms_drive has kms with integers, object type and has nan values\n",
    "- fuel_type has nan values\n",
    "- keep first  words of name"
   ]
  },
  {
   "cell_type": "markdown",
   "id": "a43e8501",
   "metadata": {},
   "source": [
    "### Data cleaning and EDA"
   ]
  },
  {
   "cell_type": "code",
   "execution_count": 13,
   "id": "a18cca02",
   "metadata": {},
   "outputs": [],
   "source": [
    "backup = car_df.copy()"
   ]
  },
  {
   "cell_type": "markdown",
   "id": "4d7a165c",
   "metadata": {},
   "source": [
    "#### Cleaning the non-year values and shnaged to integer values"
   ]
  },
  {
   "cell_type": "code",
   "execution_count": 14,
   "id": "9e6cc490",
   "metadata": {},
   "outputs": [],
   "source": [
    "car_df = car_df[car_df['year'].str.isnumeric()]\n",
    "car_df['year'] = car_df['year'].astype(int)"
   ]
  },
  {
   "cell_type": "markdown",
   "id": "fd8f08c7",
   "metadata": {},
   "source": [
    "#### Cleaned the non numeric price value and changed to integer type"
   ]
  },
  {
   "cell_type": "code",
   "execution_count": 15,
   "id": "e6524d63",
   "metadata": {},
   "outputs": [],
   "source": [
    "car_df = car_df[car_df['Price'] != 'Ask For Price']\n",
    "car_df['Price'] = car_df['Price'].str.replace(',', '').astype(int)"
   ]
  },
  {
   "cell_type": "markdown",
   "id": "b0384017",
   "metadata": {},
   "source": [
    "#### Changed the kms driven value to integer value"
   ]
  },
  {
   "cell_type": "code",
   "execution_count": 16,
   "id": "87433004",
   "metadata": {},
   "outputs": [],
   "source": [
    "car_df['kms_driven'] = car_df['kms_driven'].str.split(' ').str.get(0).str.replace(',', '')\n",
    "car_df = car_df[car_df['kms_driven'].str.isnumeric()]\n",
    "car_df['kms_driven'] = car_df['kms_driven'].astype(int)"
   ]
  },
  {
   "cell_type": "markdown",
   "id": "ce4e24fb",
   "metadata": {},
   "source": [
    "#### Dropped the nan fuel_type row"
   ]
  },
  {
   "cell_type": "code",
   "execution_count": 17,
   "id": "2c2eedd7",
   "metadata": {},
   "outputs": [],
   "source": [
    "car_df = car_df[~car_df['fuel_type'].isna()]"
   ]
  },
  {
   "cell_type": "code",
   "execution_count": 18,
   "id": "7b2ac2e9",
   "metadata": {},
   "outputs": [
    {
     "name": "stdout",
     "output_type": "stream",
     "text": [
      "<class 'pandas.core.frame.DataFrame'>\n",
      "Int64Index: 816 entries, 0 to 889\n",
      "Data columns (total 6 columns):\n",
      " #   Column      Non-Null Count  Dtype \n",
      "---  ------      --------------  ----- \n",
      " 0   name        816 non-null    object\n",
      " 1   company     816 non-null    object\n",
      " 2   year        816 non-null    int64 \n",
      " 3   Price       816 non-null    int64 \n",
      " 4   kms_driven  816 non-null    int64 \n",
      " 5   fuel_type   816 non-null    object\n",
      "dtypes: int64(3), object(3)\n",
      "memory usage: 44.6+ KB\n"
     ]
    }
   ],
   "source": [
    "car_df.info()"
   ]
  },
  {
   "cell_type": "markdown",
   "id": "c962bb99",
   "metadata": {},
   "source": [
    "#### Now dealing with the name of the cars"
   ]
  },
  {
   "cell_type": "code",
   "execution_count": 19,
   "id": "0e1ef8d2",
   "metadata": {},
   "outputs": [
    {
     "data": {
      "text/html": [
       "<div>\n",
       "<style scoped>\n",
       "    .dataframe tbody tr th:only-of-type {\n",
       "        vertical-align: middle;\n",
       "    }\n",
       "\n",
       "    .dataframe tbody tr th {\n",
       "        vertical-align: top;\n",
       "    }\n",
       "\n",
       "    .dataframe thead th {\n",
       "        text-align: right;\n",
       "    }\n",
       "</style>\n",
       "<table border=\"1\" class=\"dataframe\">\n",
       "  <thead>\n",
       "    <tr style=\"text-align: right;\">\n",
       "      <th></th>\n",
       "      <th>name</th>\n",
       "      <th>company</th>\n",
       "      <th>year</th>\n",
       "      <th>Price</th>\n",
       "      <th>kms_driven</th>\n",
       "      <th>fuel_type</th>\n",
       "    </tr>\n",
       "  </thead>\n",
       "  <tbody>\n",
       "    <tr>\n",
       "      <th>0</th>\n",
       "      <td>Hyundai Santro Xing</td>\n",
       "      <td>Hyundai</td>\n",
       "      <td>2007</td>\n",
       "      <td>80000</td>\n",
       "      <td>45000</td>\n",
       "      <td>Petrol</td>\n",
       "    </tr>\n",
       "    <tr>\n",
       "      <th>1</th>\n",
       "      <td>Mahindra Jeep CL550</td>\n",
       "      <td>Mahindra</td>\n",
       "      <td>2006</td>\n",
       "      <td>425000</td>\n",
       "      <td>40</td>\n",
       "      <td>Diesel</td>\n",
       "    </tr>\n",
       "    <tr>\n",
       "      <th>2</th>\n",
       "      <td>Hyundai Grand i10</td>\n",
       "      <td>Hyundai</td>\n",
       "      <td>2014</td>\n",
       "      <td>325000</td>\n",
       "      <td>28000</td>\n",
       "      <td>Petrol</td>\n",
       "    </tr>\n",
       "    <tr>\n",
       "      <th>3</th>\n",
       "      <td>Ford EcoSport Titanium</td>\n",
       "      <td>Ford</td>\n",
       "      <td>2014</td>\n",
       "      <td>575000</td>\n",
       "      <td>36000</td>\n",
       "      <td>Diesel</td>\n",
       "    </tr>\n",
       "    <tr>\n",
       "      <th>4</th>\n",
       "      <td>Ford Figo</td>\n",
       "      <td>Ford</td>\n",
       "      <td>2012</td>\n",
       "      <td>175000</td>\n",
       "      <td>41000</td>\n",
       "      <td>Diesel</td>\n",
       "    </tr>\n",
       "    <tr>\n",
       "      <th>...</th>\n",
       "      <td>...</td>\n",
       "      <td>...</td>\n",
       "      <td>...</td>\n",
       "      <td>...</td>\n",
       "      <td>...</td>\n",
       "      <td>...</td>\n",
       "    </tr>\n",
       "    <tr>\n",
       "      <th>811</th>\n",
       "      <td>Maruti Suzuki Ritz</td>\n",
       "      <td>Maruti</td>\n",
       "      <td>2011</td>\n",
       "      <td>270000</td>\n",
       "      <td>50000</td>\n",
       "      <td>Petrol</td>\n",
       "    </tr>\n",
       "    <tr>\n",
       "      <th>812</th>\n",
       "      <td>Tata Indica V2</td>\n",
       "      <td>Tata</td>\n",
       "      <td>2009</td>\n",
       "      <td>110000</td>\n",
       "      <td>30000</td>\n",
       "      <td>Diesel</td>\n",
       "    </tr>\n",
       "    <tr>\n",
       "      <th>813</th>\n",
       "      <td>Toyota Corolla Altis</td>\n",
       "      <td>Toyota</td>\n",
       "      <td>2009</td>\n",
       "      <td>300000</td>\n",
       "      <td>132000</td>\n",
       "      <td>Petrol</td>\n",
       "    </tr>\n",
       "    <tr>\n",
       "      <th>814</th>\n",
       "      <td>Tata Zest XM</td>\n",
       "      <td>Tata</td>\n",
       "      <td>2018</td>\n",
       "      <td>260000</td>\n",
       "      <td>27000</td>\n",
       "      <td>Diesel</td>\n",
       "    </tr>\n",
       "    <tr>\n",
       "      <th>815</th>\n",
       "      <td>Mahindra Quanto C8</td>\n",
       "      <td>Mahindra</td>\n",
       "      <td>2013</td>\n",
       "      <td>390000</td>\n",
       "      <td>40000</td>\n",
       "      <td>Diesel</td>\n",
       "    </tr>\n",
       "  </tbody>\n",
       "</table>\n",
       "<p>816 rows × 6 columns</p>\n",
       "</div>"
      ],
      "text/plain": [
       "                       name   company  year   Price  kms_driven fuel_type\n",
       "0       Hyundai Santro Xing   Hyundai  2007   80000       45000    Petrol\n",
       "1       Mahindra Jeep CL550  Mahindra  2006  425000          40    Diesel\n",
       "2         Hyundai Grand i10   Hyundai  2014  325000       28000    Petrol\n",
       "3    Ford EcoSport Titanium      Ford  2014  575000       36000    Diesel\n",
       "4                 Ford Figo      Ford  2012  175000       41000    Diesel\n",
       "..                      ...       ...   ...     ...         ...       ...\n",
       "811      Maruti Suzuki Ritz    Maruti  2011  270000       50000    Petrol\n",
       "812          Tata Indica V2      Tata  2009  110000       30000    Diesel\n",
       "813    Toyota Corolla Altis    Toyota  2009  300000      132000    Petrol\n",
       "814            Tata Zest XM      Tata  2018  260000       27000    Diesel\n",
       "815      Mahindra Quanto C8  Mahindra  2013  390000       40000    Diesel\n",
       "\n",
       "[816 rows x 6 columns]"
      ]
     },
     "execution_count": 19,
     "metadata": {},
     "output_type": "execute_result"
    }
   ],
   "source": [
    "car_df['name'] = car_df['name'].str.split(' ').str.slice(0, 3).str.join(' ')\n",
    "car_df.reset_index(drop=True)"
   ]
  },
  {
   "cell_type": "code",
   "execution_count": 20,
   "id": "4ab7bc6e",
   "metadata": {},
   "outputs": [
    {
     "data": {
      "text/html": [
       "<div>\n",
       "<style scoped>\n",
       "    .dataframe tbody tr th:only-of-type {\n",
       "        vertical-align: middle;\n",
       "    }\n",
       "\n",
       "    .dataframe tbody tr th {\n",
       "        vertical-align: top;\n",
       "    }\n",
       "\n",
       "    .dataframe thead th {\n",
       "        text-align: right;\n",
       "    }\n",
       "</style>\n",
       "<table border=\"1\" class=\"dataframe\">\n",
       "  <thead>\n",
       "    <tr style=\"text-align: right;\">\n",
       "      <th></th>\n",
       "      <th>year</th>\n",
       "      <th>Price</th>\n",
       "      <th>kms_driven</th>\n",
       "    </tr>\n",
       "  </thead>\n",
       "  <tbody>\n",
       "    <tr>\n",
       "      <th>count</th>\n",
       "      <td>816.000000</td>\n",
       "      <td>8.160000e+02</td>\n",
       "      <td>816.000000</td>\n",
       "    </tr>\n",
       "    <tr>\n",
       "      <th>mean</th>\n",
       "      <td>2012.444853</td>\n",
       "      <td>4.117176e+05</td>\n",
       "      <td>46275.531863</td>\n",
       "    </tr>\n",
       "    <tr>\n",
       "      <th>std</th>\n",
       "      <td>4.002992</td>\n",
       "      <td>4.751844e+05</td>\n",
       "      <td>34297.428044</td>\n",
       "    </tr>\n",
       "    <tr>\n",
       "      <th>min</th>\n",
       "      <td>1995.000000</td>\n",
       "      <td>3.000000e+04</td>\n",
       "      <td>0.000000</td>\n",
       "    </tr>\n",
       "    <tr>\n",
       "      <th>25%</th>\n",
       "      <td>2010.000000</td>\n",
       "      <td>1.750000e+05</td>\n",
       "      <td>27000.000000</td>\n",
       "    </tr>\n",
       "    <tr>\n",
       "      <th>50%</th>\n",
       "      <td>2013.000000</td>\n",
       "      <td>2.999990e+05</td>\n",
       "      <td>41000.000000</td>\n",
       "    </tr>\n",
       "    <tr>\n",
       "      <th>75%</th>\n",
       "      <td>2015.000000</td>\n",
       "      <td>4.912500e+05</td>\n",
       "      <td>56818.500000</td>\n",
       "    </tr>\n",
       "    <tr>\n",
       "      <th>max</th>\n",
       "      <td>2019.000000</td>\n",
       "      <td>8.500003e+06</td>\n",
       "      <td>400000.000000</td>\n",
       "    </tr>\n",
       "  </tbody>\n",
       "</table>\n",
       "</div>"
      ],
      "text/plain": [
       "              year         Price     kms_driven\n",
       "count   816.000000  8.160000e+02     816.000000\n",
       "mean   2012.444853  4.117176e+05   46275.531863\n",
       "std       4.002992  4.751844e+05   34297.428044\n",
       "min    1995.000000  3.000000e+04       0.000000\n",
       "25%    2010.000000  1.750000e+05   27000.000000\n",
       "50%    2013.000000  2.999990e+05   41000.000000\n",
       "75%    2015.000000  4.912500e+05   56818.500000\n",
       "max    2019.000000  8.500003e+06  400000.000000"
      ]
     },
     "execution_count": 20,
     "metadata": {},
     "output_type": "execute_result"
    }
   ],
   "source": [
    "car_df.describe()"
   ]
  },
  {
   "cell_type": "markdown",
   "id": "ed6e8eac",
   "metadata": {},
   "source": [
    "##### As we see here our car's price to 75% is 4.912500e+05 but max price is too much i.e. 8.500003e+06."
   ]
  },
  {
   "cell_type": "code",
   "execution_count": 21,
   "id": "6fcb18d5",
   "metadata": {},
   "outputs": [
    {
     "data": {
      "text/html": [
       "<div>\n",
       "<style scoped>\n",
       "    .dataframe tbody tr th:only-of-type {\n",
       "        vertical-align: middle;\n",
       "    }\n",
       "\n",
       "    .dataframe tbody tr th {\n",
       "        vertical-align: top;\n",
       "    }\n",
       "\n",
       "    .dataframe thead th {\n",
       "        text-align: right;\n",
       "    }\n",
       "</style>\n",
       "<table border=\"1\" class=\"dataframe\">\n",
       "  <thead>\n",
       "    <tr style=\"text-align: right;\">\n",
       "      <th></th>\n",
       "      <th>name</th>\n",
       "      <th>company</th>\n",
       "      <th>year</th>\n",
       "      <th>Price</th>\n",
       "      <th>kms_driven</th>\n",
       "      <th>fuel_type</th>\n",
       "    </tr>\n",
       "  </thead>\n",
       "  <tbody>\n",
       "    <tr>\n",
       "      <th>562</th>\n",
       "      <td>Mahindra XUV500 W6</td>\n",
       "      <td>Mahindra</td>\n",
       "      <td>2014</td>\n",
       "      <td>8500003</td>\n",
       "      <td>45000</td>\n",
       "      <td>Diesel</td>\n",
       "    </tr>\n",
       "  </tbody>\n",
       "</table>\n",
       "</div>"
      ],
      "text/plain": [
       "                   name   company  year    Price  kms_driven fuel_type\n",
       "562  Mahindra XUV500 W6  Mahindra  2014  8500003       45000    Diesel"
      ]
     },
     "execution_count": 21,
     "metadata": {},
     "output_type": "execute_result"
    }
   ],
   "source": [
    "car_df[car_df['Price'] > 6e6]"
   ]
  },
  {
   "cell_type": "markdown",
   "id": "e48d85d7",
   "metadata": {},
   "source": [
    "##### Soo we can say it as a outlier in our dataset soo we remove it."
   ]
  },
  {
   "cell_type": "code",
   "execution_count": 22,
   "id": "a3b54b47",
   "metadata": {},
   "outputs": [
    {
     "data": {
      "text/html": [
       "<div>\n",
       "<style scoped>\n",
       "    .dataframe tbody tr th:only-of-type {\n",
       "        vertical-align: middle;\n",
       "    }\n",
       "\n",
       "    .dataframe tbody tr th {\n",
       "        vertical-align: top;\n",
       "    }\n",
       "\n",
       "    .dataframe thead th {\n",
       "        text-align: right;\n",
       "    }\n",
       "</style>\n",
       "<table border=\"1\" class=\"dataframe\">\n",
       "  <thead>\n",
       "    <tr style=\"text-align: right;\">\n",
       "      <th></th>\n",
       "      <th>name</th>\n",
       "      <th>company</th>\n",
       "      <th>year</th>\n",
       "      <th>Price</th>\n",
       "      <th>kms_driven</th>\n",
       "      <th>fuel_type</th>\n",
       "    </tr>\n",
       "  </thead>\n",
       "  <tbody>\n",
       "    <tr>\n",
       "      <th>0</th>\n",
       "      <td>Hyundai Santro Xing</td>\n",
       "      <td>Hyundai</td>\n",
       "      <td>2007</td>\n",
       "      <td>80000</td>\n",
       "      <td>45000</td>\n",
       "      <td>Petrol</td>\n",
       "    </tr>\n",
       "    <tr>\n",
       "      <th>1</th>\n",
       "      <td>Mahindra Jeep CL550</td>\n",
       "      <td>Mahindra</td>\n",
       "      <td>2006</td>\n",
       "      <td>425000</td>\n",
       "      <td>40</td>\n",
       "      <td>Diesel</td>\n",
       "    </tr>\n",
       "    <tr>\n",
       "      <th>2</th>\n",
       "      <td>Hyundai Grand i10</td>\n",
       "      <td>Hyundai</td>\n",
       "      <td>2014</td>\n",
       "      <td>325000</td>\n",
       "      <td>28000</td>\n",
       "      <td>Petrol</td>\n",
       "    </tr>\n",
       "    <tr>\n",
       "      <th>3</th>\n",
       "      <td>Ford EcoSport Titanium</td>\n",
       "      <td>Ford</td>\n",
       "      <td>2014</td>\n",
       "      <td>575000</td>\n",
       "      <td>36000</td>\n",
       "      <td>Diesel</td>\n",
       "    </tr>\n",
       "    <tr>\n",
       "      <th>4</th>\n",
       "      <td>Ford Figo</td>\n",
       "      <td>Ford</td>\n",
       "      <td>2012</td>\n",
       "      <td>175000</td>\n",
       "      <td>41000</td>\n",
       "      <td>Diesel</td>\n",
       "    </tr>\n",
       "    <tr>\n",
       "      <th>...</th>\n",
       "      <td>...</td>\n",
       "      <td>...</td>\n",
       "      <td>...</td>\n",
       "      <td>...</td>\n",
       "      <td>...</td>\n",
       "      <td>...</td>\n",
       "    </tr>\n",
       "    <tr>\n",
       "      <th>810</th>\n",
       "      <td>Maruti Suzuki Ritz</td>\n",
       "      <td>Maruti</td>\n",
       "      <td>2011</td>\n",
       "      <td>270000</td>\n",
       "      <td>50000</td>\n",
       "      <td>Petrol</td>\n",
       "    </tr>\n",
       "    <tr>\n",
       "      <th>811</th>\n",
       "      <td>Tata Indica V2</td>\n",
       "      <td>Tata</td>\n",
       "      <td>2009</td>\n",
       "      <td>110000</td>\n",
       "      <td>30000</td>\n",
       "      <td>Diesel</td>\n",
       "    </tr>\n",
       "    <tr>\n",
       "      <th>812</th>\n",
       "      <td>Toyota Corolla Altis</td>\n",
       "      <td>Toyota</td>\n",
       "      <td>2009</td>\n",
       "      <td>300000</td>\n",
       "      <td>132000</td>\n",
       "      <td>Petrol</td>\n",
       "    </tr>\n",
       "    <tr>\n",
       "      <th>813</th>\n",
       "      <td>Tata Zest XM</td>\n",
       "      <td>Tata</td>\n",
       "      <td>2018</td>\n",
       "      <td>260000</td>\n",
       "      <td>27000</td>\n",
       "      <td>Diesel</td>\n",
       "    </tr>\n",
       "    <tr>\n",
       "      <th>814</th>\n",
       "      <td>Mahindra Quanto C8</td>\n",
       "      <td>Mahindra</td>\n",
       "      <td>2013</td>\n",
       "      <td>390000</td>\n",
       "      <td>40000</td>\n",
       "      <td>Diesel</td>\n",
       "    </tr>\n",
       "  </tbody>\n",
       "</table>\n",
       "<p>815 rows × 6 columns</p>\n",
       "</div>"
      ],
      "text/plain": [
       "                       name   company  year   Price  kms_driven fuel_type\n",
       "0       Hyundai Santro Xing   Hyundai  2007   80000       45000    Petrol\n",
       "1       Mahindra Jeep CL550  Mahindra  2006  425000          40    Diesel\n",
       "2         Hyundai Grand i10   Hyundai  2014  325000       28000    Petrol\n",
       "3    Ford EcoSport Titanium      Ford  2014  575000       36000    Diesel\n",
       "4                 Ford Figo      Ford  2012  175000       41000    Diesel\n",
       "..                      ...       ...   ...     ...         ...       ...\n",
       "810      Maruti Suzuki Ritz    Maruti  2011  270000       50000    Petrol\n",
       "811          Tata Indica V2      Tata  2009  110000       30000    Diesel\n",
       "812    Toyota Corolla Altis    Toyota  2009  300000      132000    Petrol\n",
       "813            Tata Zest XM      Tata  2018  260000       27000    Diesel\n",
       "814      Mahindra Quanto C8  Mahindra  2013  390000       40000    Diesel\n",
       "\n",
       "[815 rows x 6 columns]"
      ]
     },
     "execution_count": 22,
     "metadata": {},
     "output_type": "execute_result"
    }
   ],
   "source": [
    "car_df = car_df[car_df['Price'] < 6e6].reset_index(drop=True)\n",
    "car_df"
   ]
  },
  {
   "cell_type": "code",
   "execution_count": 23,
   "id": "7fa8957c",
   "metadata": {},
   "outputs": [
    {
     "data": {
      "text/html": [
       "<div>\n",
       "<style scoped>\n",
       "    .dataframe tbody tr th:only-of-type {\n",
       "        vertical-align: middle;\n",
       "    }\n",
       "\n",
       "    .dataframe tbody tr th {\n",
       "        vertical-align: top;\n",
       "    }\n",
       "\n",
       "    .dataframe thead th {\n",
       "        text-align: right;\n",
       "    }\n",
       "</style>\n",
       "<table border=\"1\" class=\"dataframe\">\n",
       "  <thead>\n",
       "    <tr style=\"text-align: right;\">\n",
       "      <th></th>\n",
       "      <th>year</th>\n",
       "      <th>Price</th>\n",
       "      <th>kms_driven</th>\n",
       "    </tr>\n",
       "  </thead>\n",
       "  <tbody>\n",
       "    <tr>\n",
       "      <th>count</th>\n",
       "      <td>815.000000</td>\n",
       "      <td>8.150000e+02</td>\n",
       "      <td>815.000000</td>\n",
       "    </tr>\n",
       "    <tr>\n",
       "      <th>mean</th>\n",
       "      <td>2012.442945</td>\n",
       "      <td>4.017933e+05</td>\n",
       "      <td>46277.096933</td>\n",
       "    </tr>\n",
       "    <tr>\n",
       "      <th>std</th>\n",
       "      <td>4.005079</td>\n",
       "      <td>3.815888e+05</td>\n",
       "      <td>34318.459638</td>\n",
       "    </tr>\n",
       "    <tr>\n",
       "      <th>min</th>\n",
       "      <td>1995.000000</td>\n",
       "      <td>3.000000e+04</td>\n",
       "      <td>0.000000</td>\n",
       "    </tr>\n",
       "    <tr>\n",
       "      <th>25%</th>\n",
       "      <td>2010.000000</td>\n",
       "      <td>1.750000e+05</td>\n",
       "      <td>27000.000000</td>\n",
       "    </tr>\n",
       "    <tr>\n",
       "      <th>50%</th>\n",
       "      <td>2013.000000</td>\n",
       "      <td>2.999990e+05</td>\n",
       "      <td>41000.000000</td>\n",
       "    </tr>\n",
       "    <tr>\n",
       "      <th>75%</th>\n",
       "      <td>2015.000000</td>\n",
       "      <td>4.900000e+05</td>\n",
       "      <td>56879.000000</td>\n",
       "    </tr>\n",
       "    <tr>\n",
       "      <th>max</th>\n",
       "      <td>2019.000000</td>\n",
       "      <td>3.100000e+06</td>\n",
       "      <td>400000.000000</td>\n",
       "    </tr>\n",
       "  </tbody>\n",
       "</table>\n",
       "</div>"
      ],
      "text/plain": [
       "              year         Price     kms_driven\n",
       "count   815.000000  8.150000e+02     815.000000\n",
       "mean   2012.442945  4.017933e+05   46277.096933\n",
       "std       4.005079  3.815888e+05   34318.459638\n",
       "min    1995.000000  3.000000e+04       0.000000\n",
       "25%    2010.000000  1.750000e+05   27000.000000\n",
       "50%    2013.000000  2.999990e+05   41000.000000\n",
       "75%    2015.000000  4.900000e+05   56879.000000\n",
       "max    2019.000000  3.100000e+06  400000.000000"
      ]
     },
     "execution_count": 23,
     "metadata": {},
     "output_type": "execute_result"
    }
   ],
   "source": [
    "car_df.describe()"
   ]
  },
  {
   "cell_type": "code",
   "execution_count": 24,
   "id": "95ec7c85",
   "metadata": {},
   "outputs": [],
   "source": [
    "car_df.to_csv('car_data_cleaned.csv')"
   ]
  },
  {
   "cell_type": "markdown",
   "id": "f3d06046",
   "metadata": {},
   "source": [
    "### Splitting the data into dependent and independent variables"
   ]
  },
  {
   "cell_type": "code",
   "execution_count": 25,
   "id": "987fbe2f",
   "metadata": {},
   "outputs": [],
   "source": [
    "X = car_df.drop('Price', axis=1)\n",
    "y = car_df.Price"
   ]
  },
  {
   "cell_type": "markdown",
   "id": "aa13ba07",
   "metadata": {},
   "source": [
    "### Now dealing with categorial values which is turned into numbers by One Hot Encoder"
   ]
  },
  {
   "cell_type": "code",
   "execution_count": 26,
   "id": "db1d3050",
   "metadata": {},
   "outputs": [
    {
     "data": {
      "text/plain": [
       "<815x284 sparse matrix of type '<class 'numpy.float64'>'\n",
       "\twith 4068 stored elements in Compressed Sparse Row format>"
      ]
     },
     "execution_count": 26,
     "metadata": {},
     "output_type": "execute_result"
    }
   ],
   "source": [
    "# Turn the categories into numbers\n",
    "from sklearn.preprocessing import OneHotEncoder\n",
    "from sklearn.compose import ColumnTransformer\n",
    "\n",
    "categorial_features = [\"name\", \"company\", \"fuel_type\"]\n",
    "one_hot = OneHotEncoder()\n",
    "transformer = ColumnTransformer([(\"one_hot\",\n",
    "                                 one_hot,\n",
    "                                 categorial_features)],\n",
    "                               remainder=\"passthrough\")\n",
    "\n",
    "X = transformer.fit_transform(X)\n",
    "X"
   ]
  },
  {
   "cell_type": "markdown",
   "id": "c52c4c89",
   "metadata": {},
   "source": [
    "### Now splitting the dataset into training and test set"
   ]
  },
  {
   "cell_type": "code",
   "execution_count": 27,
   "id": "ef338e8b",
   "metadata": {},
   "outputs": [],
   "source": [
    "from sklearn.model_selection import train_test_split\n",
    "X_train, X_test, y_train, y_test = train_test_split(X, y, test_size=0.2, random_state=0)"
   ]
  },
  {
   "cell_type": "markdown",
   "id": "ad3be7c0",
   "metadata": {},
   "source": [
    "### Fitting the model into the training dataset"
   ]
  },
  {
   "cell_type": "code",
   "execution_count": 28,
   "id": "4ed41ef6",
   "metadata": {},
   "outputs": [],
   "source": [
    "from sklearn.linear_model import LinearRegression\n",
    "from sklearn.tree import DecisionTreeRegressor\n",
    "from sklearn.ensemble import RandomForestRegressor\n",
    "from sklearn.svm import SVR\n",
    "from xgboost import XGBRegressor"
   ]
  },
  {
   "cell_type": "markdown",
   "id": "e9b23e70",
   "metadata": {},
   "source": [
    "### Making a function fit_model for different ML algorithms"
   ]
  },
  {
   "cell_type": "code",
   "execution_count": 29,
   "id": "8e082499",
   "metadata": {},
   "outputs": [],
   "source": [
    "def fit_model(model, X_train, X_test, y_train, y_test):\n",
    "    model.fit(X_train, y_train)\n",
    "    print('The predicted values:\\n ', model.predict(X_test))\n",
    "    print('\\nThe accuracy score: ', model.score(X_test, y_test))"
   ]
  },
  {
   "cell_type": "markdown",
   "id": "bfe1d874",
   "metadata": {},
   "source": [
    "### 1. Linear Regression"
   ]
  },
  {
   "cell_type": "code",
   "execution_count": 30,
   "id": "b83de6d0",
   "metadata": {},
   "outputs": [
    {
     "name": "stdout",
     "output_type": "stream",
     "text": [
      "The predicted values:\n",
      "  [ 2.38351043e+05  3.63036991e+05  3.70341532e+05  4.38883698e+04\n",
      "  1.80226171e+05  1.58396154e+06  5.03858340e+05  3.22417333e+05\n",
      "  4.77901941e+04  7.06679258e+05  9.18903580e+04  3.99372253e+05\n",
      "  1.82180279e+05  1.09618016e+06  1.79875729e+05  2.62056280e+05\n",
      "  9.12321707e+04  6.09367569e+05  2.97850300e+05  1.50677964e+05\n",
      "  3.20899655e+05  2.28962233e+05  8.42823927e+05  5.16138367e+05\n",
      "  2.23973387e+05  2.10956223e+05  4.26211877e+05  4.47290555e+05\n",
      "  5.29691318e+05  3.68500106e+04  4.90503887e+05  3.09195996e+05\n",
      "  5.16739931e+05  3.24487492e+05  6.24535548e+04  5.00193190e+05\n",
      "  5.13438956e+05  1.75580591e+05  1.39156112e+05  2.78754328e+05\n",
      "  6.18279975e+05  4.94705963e+05  3.63036991e+05  3.92129528e+05\n",
      "  2.66208539e+05  5.70615254e+05  3.24621777e+05  5.09995652e+04\n",
      "  2.26251634e+05  3.52752402e+05  2.06051327e+05  2.25307793e+05\n",
      "  8.03565291e+05  5.93733730e+05  3.38717505e+05  2.28610021e+05\n",
      "  4.66607856e+05  4.03867826e+05  8.13669035e+05  2.80033528e+05\n",
      " -4.67959418e+04  3.87502254e+05  1.89241289e+06  2.77747899e+05\n",
      "  2.93863034e+05  1.78809369e+05 -2.07807775e+04  6.48637343e+05\n",
      "  4.40671936e+05  1.09065792e+05  6.97702582e+05  1.17032977e+05\n",
      "  7.58933031e+05  4.04702230e+05  4.17454965e+05  3.19248627e+05\n",
      "  3.42859408e+05  4.33013502e+04  4.66138232e+05  5.29691318e+05\n",
      "  2.27645461e+05 -1.02990497e+05  6.09367569e+05  2.45704134e+05\n",
      "  1.60759526e+05  1.20725584e+05  1.66388439e+05  5.02317462e+05\n",
      "  6.85957438e+05  4.90048458e+05 -1.02969824e+02  3.50090232e+05\n",
      "  1.62178242e+05  2.18092332e+05  1.12059910e+05  2.83470801e+05\n",
      "  3.12950633e+05  2.44982307e+04  5.55074178e+05  3.49540828e+05\n",
      "  1.03899415e+05  4.36506059e+05  3.37459606e+05  4.97388943e+05\n",
      "  2.50344378e+05  4.16938236e+05  1.44236380e+06  8.52562827e+04\n",
      "  2.97895602e+05  4.36535894e+05  3.38298205e+05  1.47457809e+06\n",
      " -8.32458923e+04  1.45399385e+05  4.01117792e+05  4.34921214e+05\n",
      "  3.13954452e+05  2.74511015e+05  2.88932349e+05  6.66042128e+05\n",
      "  3.51710200e+05  2.26544098e+05  2.08846202e+05  3.02241528e+05\n",
      "  3.96986915e+05  3.21738254e+05  6.42629731e+05  3.09195996e+05\n",
      "  7.57448698e+05  4.05993209e+05  5.18364931e+05  3.94490899e+05\n",
      "  2.36145173e+05  4.34723161e+05  1.13109618e+05  5.00193190e+05\n",
      "  3.49534516e+05  4.13748979e+05  1.47410931e+06  3.42136228e+05\n",
      "  5.54120050e+05  2.32635298e+05  6.04529745e+05  3.38046625e+05\n",
      " -1.31424778e+03  6.40266094e+05  5.03658511e+05  4.33570967e+05\n",
      "  2.26399151e+05  3.67139319e+05  1.01908981e+06  6.99300475e+05\n",
      "  2.57625402e+05  4.35530059e+05  2.65107863e+05  3.36956446e+05\n",
      "  3.11507315e+04  3.74526049e+05  2.54100903e+05  3.32792774e+05\n",
      "  2.18997759e+05  1.89241289e+06  2.80009190e+05]\n",
      "\n",
      "The accuracy score:  0.7852436112028165\n"
     ]
    }
   ],
   "source": [
    "fit_model(LinearRegression(), X_train, X_test, y_train, y_test)"
   ]
  },
  {
   "cell_type": "markdown",
   "id": "40633ef5",
   "metadata": {},
   "source": [
    "### 2. Decision Tree Regressor"
   ]
  },
  {
   "cell_type": "code",
   "execution_count": 31,
   "id": "33233856",
   "metadata": {},
   "outputs": [
    {
     "name": "stdout",
     "output_type": "stream",
     "text": [
      "The predicted values:\n",
      "  [ 190000.          375000.          390000.           60000.\n",
      "  180000.         1499000.          499999.          315000.\n",
      "   70000.          750000.           50500.          390000.\n",
      "  182000.          375000.          265000.          140000.\n",
      "  115000.          344999.          299999.           68000.\n",
      "  355000.          250000.          858333.33333333  500000.\n",
      "  179000.          120000.          489999.         1200000.\n",
      "  474999.          245000.          265000.          344999.\n",
      "  500000.          330000.          180000.          501000.\n",
      "  599999.           90000.          145000.          225000.\n",
      "  560000.          435000.          375000.          299999.\n",
      "  270000.          485000.          200000.           70000.\n",
      "  105000.          274999.          189500.          195000.\n",
      "  689999.          540000.          365000.          250000.\n",
      "  549000.          130000.          399000.          275000.\n",
      "   68000.          120000.         1891111.          350000.\n",
      "   88000.           80000.           85000.          650000.\n",
      "  489999.          125000.          699000.          135000.\n",
      "  900000.          600000.          245000.          265000.\n",
      "  130000.           68000.          344999.          474999.\n",
      "   95000.           55000.          344999.          245000.\n",
      "  425000.          178000.          190000.          344999.\n",
      "  519000.          375000.           65000.          349999.\n",
      "  110000.          250000.          110000.          178000.\n",
      "  100000.           40000.          580000.          224999.\n",
      "  250000.          130000.          365000.          330000.\n",
      "  250000.          340000.         1475000.           85000.\n",
      "  185000.          549000.          365000.         1475000.\n",
      "   70000.           32000.          499000.          450000.\n",
      "  224999.          190000.          375000.          350000.\n",
      "  130000.          350000.          270000.          399999.\n",
      "  335000.          355000.          250000.          344999.\n",
      "  574999.          175000.          230000.          175000.\n",
      "  210000.          415000.          112500.          501000.\n",
      "  449999.          249999.         1475000.          375000.\n",
      "  399999.          225000.          699000.          365000.\n",
      "   53000.          430000.          550000.          245000.\n",
      "  145000.          299999.          190000.          344999.\n",
      "  189000.          185000.          265000.          320000.\n",
      "  100000.          444999.          235000.          385000.\n",
      "  195000.         1891111.          372000.        ]\n",
      "\n",
      "The accuracy score:  0.616959228537012\n"
     ]
    }
   ],
   "source": [
    "fit_model(DecisionTreeRegressor(), X_train, X_test, y_train, y_test)"
   ]
  },
  {
   "cell_type": "markdown",
   "id": "6c293f1e",
   "metadata": {},
   "source": [
    "### 3. Random Forest Regressor"
   ]
  },
  {
   "cell_type": "code",
   "execution_count": 32,
   "id": "2e91cf38",
   "metadata": {},
   "outputs": [
    {
     "name": "stdout",
     "output_type": "stream",
     "text": [
      "The predicted values:\n",
      "  [ 177129.93        386549.96        319279.97         76193.30333333\n",
      "  282100.         1941666.61666667  474743.5         369018.8\n",
      "   82796.63666667  636489.83        249946.07        371194.97\n",
      "  189365.5         759869.84        383765.47        211754.92\n",
      "  125959.98        524229.55        290779.38         73478.32333333\n",
      "  279959.99        227605.54        857239.4047619   438681.\n",
      "  381850.51        183249.99        421029.66        564669.83\n",
      "  472917.58        203167.8         296484.9         358489.1\n",
      "  427429.9         388689.94        408706.09        479615.95\n",
      "  487899.33         96585.          169193.96        238789.99\n",
      "  453129.97        449089.8         386549.96        327433.84\n",
      "  255249.99        480496.94        351484.95         55529.995\n",
      "  105350.          330053.58        169564.9         288349.96\n",
      "  659669.79        553109.98        349599.94        227261.1\n",
      "  515094.9         208205.53        506393.34333333  207200.\n",
      "   78834.15666667  191500.96       1891111.          342718.85\n",
      "  155334.93         89624.77083333   76845.83333333  524879.97\n",
      "  429859.63        118767.14285714 1156369.99        130620.83333333\n",
      "  713859.85        341031.59666667  271849.9         229567.86\n",
      "  222759.95         76660.          416319.68        472917.58\n",
      "  107082.13285714   54220.          524229.55        231804.96\n",
      "  391185.          197931.92        190424.98        374210.84\n",
      "  479423.28333333  346863.33         62110.          347849.56\n",
      "  150933.33333333  162553.97        118892.49        209286.91\n",
      "  245595.           73340.          492329.9         235517.45\n",
      "  141220.          136689.8525      329029.94        428214.97\n",
      "  180143.28333333  346233.16       1223201.06         82788.57142857\n",
      "  209719.65        482579.82        327399.95       1348880.\n",
      "   45830.           92093.79        482149.92        393999.99\n",
      "  250253.7         226761.1         327508.29        377740.\n",
      "  231489.96        280660.17        223433.26333333  314494.07666667\n",
      "  383080.01        257109.98        347439.97        358489.1\n",
      "  447098.59        209237.85        214557.75        271864.84\n",
      "  204700.          398114.96        122311.8647619   479615.95\n",
      "  446138.63        216604.39       1347279.99        327879.87\n",
      "  525124.44        244895.99        659488.92        334499.96\n",
      "   77490.81892857  476439.82        493023.08333333  267394.93\n",
      "  225509.83        307640.97        493668.97        505079.94\n",
      "  348669.66        224662.9         251556.35        331289.96\n",
      "   86643.26383333  266649.79        246149.79        403449.95\n",
      "  197302.13666667 1891111.          336010.        ]\n",
      "\n",
      "The accuracy score:  0.7024285272119726\n"
     ]
    }
   ],
   "source": [
    "fit_model(RandomForestRegressor(), X_train, X_test, y_train, y_test)"
   ]
  },
  {
   "cell_type": "markdown",
   "id": "1c87c3b8",
   "metadata": {},
   "source": [
    "### 4. Support Vector Regressor"
   ]
  },
  {
   "cell_type": "code",
   "execution_count": 33,
   "id": "41683f15",
   "metadata": {},
   "outputs": [
    {
     "name": "stdout",
     "output_type": "stream",
     "text": [
      "The predicted values:\n",
      "  [299943.82858546 299995.20215206 299983.16016155 299956.21251478\n",
      " 299991.67203839 300006.46369225 299954.09010446 299954.09010442\n",
      " 299965.52625276 299939.75844654 299949.1660705  299967.99967049\n",
      " 299949.25953585 299995.20215302 299966.97531041 299951.10463172\n",
      " 300005.06641257 299985.40506726 299996.16204645 299952.31016045\n",
      " 299938.40176744 299953.26975072 299984.21367527 299993.19603922\n",
      " 299937.95074869 299945.95176857 299966.75816875 300007.0325419\n",
      " 299959.56877257 299953.06733709 299964.30563086 299993.19603876\n",
      " 299997.09164766 299974.29025848 299949.74021521 299978.06735777\n",
      " 299965.52625744 299970.50455348 299981.78793372 300003.70109859\n",
      " 300007.26843016 299973.53226555 299995.20215206 299985.40506622\n",
      " 299954.09010112 299961.90486499 300003.45242866 299938.12092386\n",
      " 299973.02693677 299980.55695189 299978.06735647 299959.56877256\n",
      " 299941.00933852 299943.19191783 299995.20215243 299949.25953853\n",
      " 299976.22194082 299939.37009922 299999.68846517 299940.46333734\n",
      " 299949.25953256 299939.80722345 300001.25070221 299961.90486501\n",
      " 299965.52625446 299938.40176668 299942.02735643 299938.40176896\n",
      " 299970.5045598  299963.09795334 299963.09795446 299993.05769206\n",
      " 299956.21252135 299983.00741008 300000.56497461 299990.21027222\n",
      " 299947.53972612 299949.25953256 300002.67070482 299959.56877257\n",
      " 299965.52625389 299949.25953137 299985.40506726 299945.2089714\n",
      " 300007.77879543 299974.29025664 299989.98975836 300002.67070444\n",
      " 299947.13014823 299954.09010341 299938.0138687  299999.68847109\n",
      " 299940.82049046 300007.13593598 299992.15225067 299974.29025665\n",
      " 299942.02736228 300002.974033   299998.85581178 299980.55695077\n",
      " 299953.0673359  299937.91333248 299978.06735878 299939.75844747\n",
      " 299961.90486263 299959.56877198 299967.72331816 299959.56876695\n",
      " 299951.10463112 299994.21308857 299989.98975889 299975.5526237\n",
      " 299975.55261186 299961.89538158 299969.49971788 299964.09086233\n",
      " 299980.5569502  299949.25953971 299954.09010341 299967.99967338\n",
      " 299945.95176712 299942.02736064 299993.19603822 300006.85253817\n",
      " 299954.09010396 299942.02735842 299961.3048737  299993.19603876\n",
      " 299949.15008    299964.38702567 299970.50455691 299966.7581676\n",
      " 299939.75844697 299981.78793544 299995.2021498  299978.06735777\n",
      " 299960.72795214 299976.81224746 299968.51106341 299989.43453746\n",
      " 300006.8525379  300001.97880463 299959.56877258 299986.57994845\n",
      " 299945.20896855 299949.25953867 299983.00741009 299939.23553811\n",
      " 299959.5687707  299980.55695186 300000.48702386 300000.48702559\n",
      " 299993.19603933 299987.73672233 299944.90595412 299970.50455864\n",
      " 299969.24904358 299967.99967046 299998.85581311 299977.41286468\n",
      " 299976.81224748 300001.25070221 300000.98818574]\n",
      "\n",
      "The accuracy score:  -0.05896781070188295\n"
     ]
    }
   ],
   "source": [
    "fit_model(SVR(), X_train, X_test, y_train, y_test)"
   ]
  },
  {
   "cell_type": "markdown",
   "id": "1e96386d",
   "metadata": {},
   "source": [
    "### 5. XGB Regressor"
   ]
  },
  {
   "cell_type": "code",
   "execution_count": 34,
   "id": "42ad3377",
   "metadata": {},
   "outputs": [
    {
     "name": "stdout",
     "output_type": "stream",
     "text": [
      "The predicted values:\n",
      "  [ 189445.1    402268.72   374392.47    61577.973  273177.4   2331834.8\n",
      "  477400.1    352461.5     96563.234  745378.56   153392.19   378566.1\n",
      "  184407.69  1123106.6    127504.695  280889.72   107385.414  556527.6\n",
      "  294041.      56086.79   276881.94   205592.11   813977.4    479702.03\n",
      "  308791.7    143691.92   453124.62   598250.6    456853.28   165518.42\n",
      "  324428.22   365790.6    447059.16   425337.     151052.39   427742.53\n",
      "  529921.8    123821.72   139077.44   269296.53   598174.25   474417.5\n",
      "  402268.72   392941.9    235794.33   500774.47   396405.1     56068.26\n",
      "  157006.64   392941.9    160922.92   292249.53   755729.3    541003.56\n",
      "  340711.97   205592.11   500508.06   305343.    1074125.5    224628.8\n",
      "   52996.645  286894.7   1868823.4    337324.88   148593.33   132915.81\n",
      "   89487.84   546639.75   461989.97   104689.44   686128.4    126002.61\n",
      "  817111.5    360082.6    289338.25   319104.88   249600.45    63923.344\n",
      "  494554.44   456853.28   129839.13    52012.887  556527.6    317279.97\n",
      "  349173.9    141083.92   204963.05   501505.16   527984.9    359720.62\n",
      "   64951.742  347001.12   209135.42   250157.3    126243.06   233354.08\n",
      "  263070.16    95039.016  453168.4    261125.47    97529.33   238218.27\n",
      "  340711.97   477006.2    177758.98   385854.56  1347275.      76707.33\n",
      "  246091.64   461598.97   340711.97  1429034.2     69346.69   130173.23\n",
      "  439711.56   410740.25   270800.06   205592.11   291120.06   385700.03\n",
      "  249600.45   153156.86   247937.78   279601.75   366547.     258168.33\n",
      "  460764.56   365790.6    458281.28   193948.17   212438.08   327875.1\n",
      "  195028.28   393991.78   164860.28   427742.53   323240.38   228971.03\n",
      " 1423897.8    363753.78   517253.16   269296.53   641761.06   340711.97\n",
      "   55594.203  527984.9    513093.8    369775.3    157557.92   362172.62\n",
      " 1080474.2    578818.3    282883.97   305751.3    269229.06   329408.56\n",
      "   67533.8    319656.8    279069.53   359360.1    182895.33  1868823.4\n",
      "  322916.8  ]\n",
      "\n",
      "The accuracy score:  0.755565474817652\n"
     ]
    }
   ],
   "source": [
    "fit_model(XGBRegressor(), X_train, X_test, y_train, y_test)"
   ]
  },
  {
   "cell_type": "code",
   "execution_count": null,
   "id": "ac9c53c5",
   "metadata": {},
   "outputs": [],
   "source": []
  }
 ],
 "metadata": {
  "kernelspec": {
   "display_name": "Python 3 (ipykernel)",
   "language": "python",
   "name": "python3"
  },
  "language_info": {
   "codemirror_mode": {
    "name": "ipython",
    "version": 3
   },
   "file_extension": ".py",
   "mimetype": "text/x-python",
   "name": "python",
   "nbconvert_exporter": "python",
   "pygments_lexer": "ipython3",
   "version": "3.9.7"
  }
 },
 "nbformat": 4,
 "nbformat_minor": 5
}
