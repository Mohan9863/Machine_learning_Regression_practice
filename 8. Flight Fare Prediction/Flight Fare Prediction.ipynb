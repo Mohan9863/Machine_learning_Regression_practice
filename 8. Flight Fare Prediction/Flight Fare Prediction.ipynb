{
 "cells": [
  {
   "cell_type": "markdown",
   "id": "e47bd894",
   "metadata": {},
   "source": [
    "# Flight Fare Prediction"
   ]
  },
  {
   "cell_type": "code",
   "execution_count": 1,
   "id": "efc5f0f9",
   "metadata": {},
   "outputs": [],
   "source": [
    "import pandas as pd\n",
    "import numpy as np\n",
    "import matplotlib.pyplot as plt\n",
    "import seaborn as sns\n",
    "%matplotlib inline\n",
    "import datetime\n",
    "import calendar\n",
    "sns.set_style('whitegrid')"
   ]
  },
  {
   "cell_type": "code",
   "execution_count": 2,
   "id": "dc411acf",
   "metadata": {},
   "outputs": [],
   "source": [
    "from sklearn.preprocessing import LabelEncoder\n",
    "le = LabelEncoder()"
   ]
  },
  {
   "cell_type": "code",
   "execution_count": 3,
   "id": "ff11f9a7",
   "metadata": {},
   "outputs": [],
   "source": [
    "df = pd.read_excel('flight_dataset.xlsx')"
   ]
  },
  {
   "cell_type": "code",
   "execution_count": 4,
   "id": "a9f73784",
   "metadata": {},
   "outputs": [
    {
     "data": {
      "text/html": [
       "<div>\n",
       "<style scoped>\n",
       "    .dataframe tbody tr th:only-of-type {\n",
       "        vertical-align: middle;\n",
       "    }\n",
       "\n",
       "    .dataframe tbody tr th {\n",
       "        vertical-align: top;\n",
       "    }\n",
       "\n",
       "    .dataframe thead th {\n",
       "        text-align: right;\n",
       "    }\n",
       "</style>\n",
       "<table border=\"1\" class=\"dataframe\">\n",
       "  <thead>\n",
       "    <tr style=\"text-align: right;\">\n",
       "      <th></th>\n",
       "      <th>Airline</th>\n",
       "      <th>Date_of_Journey</th>\n",
       "      <th>Source</th>\n",
       "      <th>Destination</th>\n",
       "      <th>Route</th>\n",
       "      <th>Dep_Time</th>\n",
       "      <th>Arrival_Time</th>\n",
       "      <th>Duration</th>\n",
       "      <th>Total_Stops</th>\n",
       "      <th>Additional_Info</th>\n",
       "      <th>Price</th>\n",
       "    </tr>\n",
       "  </thead>\n",
       "  <tbody>\n",
       "    <tr>\n",
       "      <th>0</th>\n",
       "      <td>IndiGo</td>\n",
       "      <td>24/03/2019</td>\n",
       "      <td>Banglore</td>\n",
       "      <td>New Delhi</td>\n",
       "      <td>BLR → DEL</td>\n",
       "      <td>22:20</td>\n",
       "      <td>01:10 22 Mar</td>\n",
       "      <td>2h 50m</td>\n",
       "      <td>non-stop</td>\n",
       "      <td>No info</td>\n",
       "      <td>3897</td>\n",
       "    </tr>\n",
       "    <tr>\n",
       "      <th>1</th>\n",
       "      <td>Air India</td>\n",
       "      <td>1/05/2019</td>\n",
       "      <td>Kolkata</td>\n",
       "      <td>Banglore</td>\n",
       "      <td>CCU → IXR → BBI → BLR</td>\n",
       "      <td>05:50</td>\n",
       "      <td>13:15</td>\n",
       "      <td>7h 25m</td>\n",
       "      <td>2 stops</td>\n",
       "      <td>No info</td>\n",
       "      <td>7662</td>\n",
       "    </tr>\n",
       "    <tr>\n",
       "      <th>2</th>\n",
       "      <td>Jet Airways</td>\n",
       "      <td>9/06/2019</td>\n",
       "      <td>Delhi</td>\n",
       "      <td>Cochin</td>\n",
       "      <td>DEL → LKO → BOM → COK</td>\n",
       "      <td>09:25</td>\n",
       "      <td>04:25 10 Jun</td>\n",
       "      <td>19h</td>\n",
       "      <td>2 stops</td>\n",
       "      <td>No info</td>\n",
       "      <td>13882</td>\n",
       "    </tr>\n",
       "    <tr>\n",
       "      <th>3</th>\n",
       "      <td>IndiGo</td>\n",
       "      <td>12/05/2019</td>\n",
       "      <td>Kolkata</td>\n",
       "      <td>Banglore</td>\n",
       "      <td>CCU → NAG → BLR</td>\n",
       "      <td>18:05</td>\n",
       "      <td>23:30</td>\n",
       "      <td>5h 25m</td>\n",
       "      <td>1 stop</td>\n",
       "      <td>No info</td>\n",
       "      <td>6218</td>\n",
       "    </tr>\n",
       "    <tr>\n",
       "      <th>4</th>\n",
       "      <td>IndiGo</td>\n",
       "      <td>01/03/2019</td>\n",
       "      <td>Banglore</td>\n",
       "      <td>New Delhi</td>\n",
       "      <td>BLR → NAG → DEL</td>\n",
       "      <td>16:50</td>\n",
       "      <td>21:35</td>\n",
       "      <td>4h 45m</td>\n",
       "      <td>1 stop</td>\n",
       "      <td>No info</td>\n",
       "      <td>13302</td>\n",
       "    </tr>\n",
       "  </tbody>\n",
       "</table>\n",
       "</div>"
      ],
      "text/plain": [
       "       Airline Date_of_Journey    Source Destination                  Route  \\\n",
       "0       IndiGo      24/03/2019  Banglore   New Delhi              BLR → DEL   \n",
       "1    Air India       1/05/2019   Kolkata    Banglore  CCU → IXR → BBI → BLR   \n",
       "2  Jet Airways       9/06/2019     Delhi      Cochin  DEL → LKO → BOM → COK   \n",
       "3       IndiGo      12/05/2019   Kolkata    Banglore        CCU → NAG → BLR   \n",
       "4       IndiGo      01/03/2019  Banglore   New Delhi        BLR → NAG → DEL   \n",
       "\n",
       "  Dep_Time  Arrival_Time Duration Total_Stops Additional_Info  Price  \n",
       "0    22:20  01:10 22 Mar   2h 50m    non-stop         No info   3897  \n",
       "1    05:50         13:15   7h 25m     2 stops         No info   7662  \n",
       "2    09:25  04:25 10 Jun      19h     2 stops         No info  13882  \n",
       "3    18:05         23:30   5h 25m      1 stop         No info   6218  \n",
       "4    16:50         21:35   4h 45m      1 stop         No info  13302  "
      ]
     },
     "execution_count": 4,
     "metadata": {},
     "output_type": "execute_result"
    }
   ],
   "source": [
    "df.head()"
   ]
  },
  {
   "cell_type": "code",
   "execution_count": 5,
   "id": "2c089d7f",
   "metadata": {},
   "outputs": [
    {
     "data": {
      "text/plain": [
       "(10683, 11)"
      ]
     },
     "execution_count": 5,
     "metadata": {},
     "output_type": "execute_result"
    }
   ],
   "source": [
    "df.shape"
   ]
  },
  {
   "cell_type": "code",
   "execution_count": 6,
   "id": "9c4d71d6",
   "metadata": {},
   "outputs": [
    {
     "name": "stdout",
     "output_type": "stream",
     "text": [
      "<class 'pandas.core.frame.DataFrame'>\n",
      "RangeIndex: 10683 entries, 0 to 10682\n",
      "Data columns (total 11 columns):\n",
      " #   Column           Non-Null Count  Dtype \n",
      "---  ------           --------------  ----- \n",
      " 0   Airline          10683 non-null  object\n",
      " 1   Date_of_Journey  10683 non-null  object\n",
      " 2   Source           10683 non-null  object\n",
      " 3   Destination      10683 non-null  object\n",
      " 4   Route            10682 non-null  object\n",
      " 5   Dep_Time         10683 non-null  object\n",
      " 6   Arrival_Time     10683 non-null  object\n",
      " 7   Duration         10683 non-null  object\n",
      " 8   Total_Stops      10682 non-null  object\n",
      " 9   Additional_Info  10683 non-null  object\n",
      " 10  Price            10683 non-null  int64 \n",
      "dtypes: int64(1), object(10)\n",
      "memory usage: 918.2+ KB\n"
     ]
    }
   ],
   "source": [
    "df.info()"
   ]
  },
  {
   "cell_type": "code",
   "execution_count": 7,
   "id": "f9a0b642",
   "metadata": {},
   "outputs": [
    {
     "data": {
      "text/html": [
       "<div>\n",
       "<style scoped>\n",
       "    .dataframe tbody tr th:only-of-type {\n",
       "        vertical-align: middle;\n",
       "    }\n",
       "\n",
       "    .dataframe tbody tr th {\n",
       "        vertical-align: top;\n",
       "    }\n",
       "\n",
       "    .dataframe thead th {\n",
       "        text-align: right;\n",
       "    }\n",
       "</style>\n",
       "<table border=\"1\" class=\"dataframe\">\n",
       "  <thead>\n",
       "    <tr style=\"text-align: right;\">\n",
       "      <th></th>\n",
       "      <th>Price</th>\n",
       "    </tr>\n",
       "  </thead>\n",
       "  <tbody>\n",
       "    <tr>\n",
       "      <th>count</th>\n",
       "      <td>10683.000000</td>\n",
       "    </tr>\n",
       "    <tr>\n",
       "      <th>mean</th>\n",
       "      <td>9087.064121</td>\n",
       "    </tr>\n",
       "    <tr>\n",
       "      <th>std</th>\n",
       "      <td>4611.359167</td>\n",
       "    </tr>\n",
       "    <tr>\n",
       "      <th>min</th>\n",
       "      <td>1759.000000</td>\n",
       "    </tr>\n",
       "    <tr>\n",
       "      <th>25%</th>\n",
       "      <td>5277.000000</td>\n",
       "    </tr>\n",
       "    <tr>\n",
       "      <th>50%</th>\n",
       "      <td>8372.000000</td>\n",
       "    </tr>\n",
       "    <tr>\n",
       "      <th>75%</th>\n",
       "      <td>12373.000000</td>\n",
       "    </tr>\n",
       "    <tr>\n",
       "      <th>max</th>\n",
       "      <td>79512.000000</td>\n",
       "    </tr>\n",
       "  </tbody>\n",
       "</table>\n",
       "</div>"
      ],
      "text/plain": [
       "              Price\n",
       "count  10683.000000\n",
       "mean    9087.064121\n",
       "std     4611.359167\n",
       "min     1759.000000\n",
       "25%     5277.000000\n",
       "50%     8372.000000\n",
       "75%    12373.000000\n",
       "max    79512.000000"
      ]
     },
     "execution_count": 7,
     "metadata": {},
     "output_type": "execute_result"
    }
   ],
   "source": [
    "df.describe()"
   ]
  },
  {
   "cell_type": "markdown",
   "id": "df2002f7",
   "metadata": {},
   "source": [
    "#### Looking if there is null values and removing it"
   ]
  },
  {
   "cell_type": "code",
   "execution_count": 8,
   "id": "f0c9f48a",
   "metadata": {},
   "outputs": [
    {
     "data": {
      "text/plain": [
       "Airline            0\n",
       "Date_of_Journey    0\n",
       "Source             0\n",
       "Destination        0\n",
       "Route              1\n",
       "Dep_Time           0\n",
       "Arrival_Time       0\n",
       "Duration           0\n",
       "Total_Stops        1\n",
       "Additional_Info    0\n",
       "Price              0\n",
       "dtype: int64"
      ]
     },
     "execution_count": 8,
     "metadata": {},
     "output_type": "execute_result"
    }
   ],
   "source": [
    "df.isnull().sum()"
   ]
  },
  {
   "cell_type": "code",
   "execution_count": 9,
   "id": "2476a79f",
   "metadata": {},
   "outputs": [],
   "source": [
    "df = df.dropna()"
   ]
  },
  {
   "cell_type": "code",
   "execution_count": 10,
   "id": "5f190d81",
   "metadata": {},
   "outputs": [
    {
     "data": {
      "text/plain": [
       "Airline            0\n",
       "Date_of_Journey    0\n",
       "Source             0\n",
       "Destination        0\n",
       "Route              0\n",
       "Dep_Time           0\n",
       "Arrival_Time       0\n",
       "Duration           0\n",
       "Total_Stops        0\n",
       "Additional_Info    0\n",
       "Price              0\n",
       "dtype: int64"
      ]
     },
     "execution_count": 10,
     "metadata": {},
     "output_type": "execute_result"
    }
   ],
   "source": [
    "df.isnull().sum()"
   ]
  },
  {
   "cell_type": "markdown",
   "id": "b0874b27",
   "metadata": {},
   "source": [
    "### Feature Engineering Process"
   ]
  },
  {
   "cell_type": "markdown",
   "id": "1925b367",
   "metadata": {},
   "source": [
    "#### Dropping the date column and converting it inito respective day, month and year column"
   ]
  },
  {
   "cell_type": "code",
   "execution_count": 11,
   "id": "05c6d308",
   "metadata": {},
   "outputs": [],
   "source": [
    "df['day'] = df['Date_of_Journey'].str.split('/').str[0]\n",
    "df['month'] = df['Date_of_Journey'].str.split('/').str[1]\n",
    "df['year'] = df['Date_of_Journey'].str.split('/').str[2]"
   ]
  },
  {
   "cell_type": "code",
   "execution_count": 12,
   "id": "4b5d4e66",
   "metadata": {},
   "outputs": [],
   "source": [
    "df['day'] = df['day'].astype(int)\n",
    "df['month'] = df['month'].astype(int)\n",
    "df['year'] = df['year'].astype(int)"
   ]
  },
  {
   "cell_type": "code",
   "execution_count": 13,
   "id": "6aeabc09",
   "metadata": {},
   "outputs": [],
   "source": [
    "df.drop('Date_of_Journey', axis=1, inplace=True)"
   ]
  },
  {
   "cell_type": "code",
   "execution_count": 14,
   "id": "5ac211ca",
   "metadata": {},
   "outputs": [
    {
     "data": {
      "text/html": [
       "<div>\n",
       "<style scoped>\n",
       "    .dataframe tbody tr th:only-of-type {\n",
       "        vertical-align: middle;\n",
       "    }\n",
       "\n",
       "    .dataframe tbody tr th {\n",
       "        vertical-align: top;\n",
       "    }\n",
       "\n",
       "    .dataframe thead th {\n",
       "        text-align: right;\n",
       "    }\n",
       "</style>\n",
       "<table border=\"1\" class=\"dataframe\">\n",
       "  <thead>\n",
       "    <tr style=\"text-align: right;\">\n",
       "      <th></th>\n",
       "      <th>Airline</th>\n",
       "      <th>Source</th>\n",
       "      <th>Destination</th>\n",
       "      <th>Route</th>\n",
       "      <th>Dep_Time</th>\n",
       "      <th>Arrival_Time</th>\n",
       "      <th>Duration</th>\n",
       "      <th>Total_Stops</th>\n",
       "      <th>Additional_Info</th>\n",
       "      <th>Price</th>\n",
       "      <th>day</th>\n",
       "      <th>month</th>\n",
       "      <th>year</th>\n",
       "    </tr>\n",
       "  </thead>\n",
       "  <tbody>\n",
       "    <tr>\n",
       "      <th>0</th>\n",
       "      <td>IndiGo</td>\n",
       "      <td>Banglore</td>\n",
       "      <td>New Delhi</td>\n",
       "      <td>BLR → DEL</td>\n",
       "      <td>22:20</td>\n",
       "      <td>01:10 22 Mar</td>\n",
       "      <td>2h 50m</td>\n",
       "      <td>non-stop</td>\n",
       "      <td>No info</td>\n",
       "      <td>3897</td>\n",
       "      <td>24</td>\n",
       "      <td>3</td>\n",
       "      <td>2019</td>\n",
       "    </tr>\n",
       "  </tbody>\n",
       "</table>\n",
       "</div>"
      ],
      "text/plain": [
       "  Airline    Source Destination      Route Dep_Time  Arrival_Time Duration  \\\n",
       "0  IndiGo  Banglore   New Delhi  BLR → DEL    22:20  01:10 22 Mar   2h 50m   \n",
       "\n",
       "  Total_Stops Additional_Info  Price  day  month  year  \n",
       "0    non-stop         No info   3897   24      3  2019  "
      ]
     },
     "execution_count": 14,
     "metadata": {},
     "output_type": "execute_result"
    }
   ],
   "source": [
    "df.head(1)"
   ]
  },
  {
   "cell_type": "markdown",
   "id": "9c0cfe5f",
   "metadata": {},
   "source": [
    "#### Converting the arrival time column into respective hour and minute column"
   ]
  },
  {
   "cell_type": "code",
   "execution_count": 15,
   "id": "c7b5119f",
   "metadata": {},
   "outputs": [],
   "source": [
    "df['Arrival_Time'] = df['Arrival_Time'].str.split(' ').str[0]"
   ]
  },
  {
   "cell_type": "code",
   "execution_count": 16,
   "id": "ca6ebeaa",
   "metadata": {},
   "outputs": [],
   "source": [
    "df['Arrival_hour'] = df['Arrival_Time'].str.split(':').str[0]\n",
    "df['Arrival_min'] = df['Arrival_Time'].str.split(':').str[0]\n",
    "\n",
    "df['Arrival_hour'] = df['Arrival_hour'].astype(int)\n",
    "df['Arrival_min'] = df['Arrival_min'].astype(int)"
   ]
  },
  {
   "cell_type": "markdown",
   "id": "6f41a72b",
   "metadata": {},
   "source": [
    "#### Converting the arrival tie column into respective hour and minute column"
   ]
  },
  {
   "cell_type": "code",
   "execution_count": 17,
   "id": "aa8006f7",
   "metadata": {},
   "outputs": [],
   "source": [
    "df['Dept_hour'] = df['Dep_Time'].str.split(':').str[0]\n",
    "df['Dept_min'] = df['Dep_Time'].str.split(':').str[0]\n",
    "\n",
    "df['Dept_hour'] = df['Dept_hour'].astype(int)\n",
    "df['Dept_min'] = df['Dept_min'].astype(int)"
   ]
  },
  {
   "cell_type": "code",
   "execution_count": 18,
   "id": "fe3c35f0",
   "metadata": {},
   "outputs": [],
   "source": [
    "df.drop(['Dep_Time', 'Arrival_Time'], axis=1, inplace=True)"
   ]
  },
  {
   "cell_type": "code",
   "execution_count": 19,
   "id": "11d0c091",
   "metadata": {},
   "outputs": [
    {
     "data": {
      "text/html": [
       "<div>\n",
       "<style scoped>\n",
       "    .dataframe tbody tr th:only-of-type {\n",
       "        vertical-align: middle;\n",
       "    }\n",
       "\n",
       "    .dataframe tbody tr th {\n",
       "        vertical-align: top;\n",
       "    }\n",
       "\n",
       "    .dataframe thead th {\n",
       "        text-align: right;\n",
       "    }\n",
       "</style>\n",
       "<table border=\"1\" class=\"dataframe\">\n",
       "  <thead>\n",
       "    <tr style=\"text-align: right;\">\n",
       "      <th></th>\n",
       "      <th>Airline</th>\n",
       "      <th>Source</th>\n",
       "      <th>Destination</th>\n",
       "      <th>Route</th>\n",
       "      <th>Duration</th>\n",
       "      <th>Total_Stops</th>\n",
       "      <th>Additional_Info</th>\n",
       "      <th>Price</th>\n",
       "      <th>day</th>\n",
       "      <th>month</th>\n",
       "      <th>year</th>\n",
       "      <th>Arrival_hour</th>\n",
       "      <th>Arrival_min</th>\n",
       "      <th>Dept_hour</th>\n",
       "      <th>Dept_min</th>\n",
       "    </tr>\n",
       "  </thead>\n",
       "  <tbody>\n",
       "    <tr>\n",
       "      <th>0</th>\n",
       "      <td>IndiGo</td>\n",
       "      <td>Banglore</td>\n",
       "      <td>New Delhi</td>\n",
       "      <td>BLR → DEL</td>\n",
       "      <td>2h 50m</td>\n",
       "      <td>non-stop</td>\n",
       "      <td>No info</td>\n",
       "      <td>3897</td>\n",
       "      <td>24</td>\n",
       "      <td>3</td>\n",
       "      <td>2019</td>\n",
       "      <td>1</td>\n",
       "      <td>1</td>\n",
       "      <td>22</td>\n",
       "      <td>22</td>\n",
       "    </tr>\n",
       "    <tr>\n",
       "      <th>1</th>\n",
       "      <td>Air India</td>\n",
       "      <td>Kolkata</td>\n",
       "      <td>Banglore</td>\n",
       "      <td>CCU → IXR → BBI → BLR</td>\n",
       "      <td>7h 25m</td>\n",
       "      <td>2 stops</td>\n",
       "      <td>No info</td>\n",
       "      <td>7662</td>\n",
       "      <td>1</td>\n",
       "      <td>5</td>\n",
       "      <td>2019</td>\n",
       "      <td>13</td>\n",
       "      <td>13</td>\n",
       "      <td>5</td>\n",
       "      <td>5</td>\n",
       "    </tr>\n",
       "    <tr>\n",
       "      <th>2</th>\n",
       "      <td>Jet Airways</td>\n",
       "      <td>Delhi</td>\n",
       "      <td>Cochin</td>\n",
       "      <td>DEL → LKO → BOM → COK</td>\n",
       "      <td>19h</td>\n",
       "      <td>2 stops</td>\n",
       "      <td>No info</td>\n",
       "      <td>13882</td>\n",
       "      <td>9</td>\n",
       "      <td>6</td>\n",
       "      <td>2019</td>\n",
       "      <td>4</td>\n",
       "      <td>4</td>\n",
       "      <td>9</td>\n",
       "      <td>9</td>\n",
       "    </tr>\n",
       "  </tbody>\n",
       "</table>\n",
       "</div>"
      ],
      "text/plain": [
       "       Airline    Source Destination                  Route Duration  \\\n",
       "0       IndiGo  Banglore   New Delhi              BLR → DEL   2h 50m   \n",
       "1    Air India   Kolkata    Banglore  CCU → IXR → BBI → BLR   7h 25m   \n",
       "2  Jet Airways     Delhi      Cochin  DEL → LKO → BOM → COK      19h   \n",
       "\n",
       "  Total_Stops Additional_Info  Price  day  month  year  Arrival_hour  \\\n",
       "0    non-stop         No info   3897   24      3  2019             1   \n",
       "1     2 stops         No info   7662    1      5  2019            13   \n",
       "2     2 stops         No info  13882    9      6  2019             4   \n",
       "\n",
       "   Arrival_min  Dept_hour  Dept_min  \n",
       "0            1         22        22  \n",
       "1           13          5         5  \n",
       "2            4          9         9  "
      ]
     },
     "execution_count": 19,
     "metadata": {},
     "output_type": "execute_result"
    }
   ],
   "source": [
    "df.head(3)"
   ]
  },
  {
   "cell_type": "markdown",
   "id": "5208596a",
   "metadata": {},
   "source": [
    "#### Dealing with the routes and total stops"
   ]
  },
  {
   "cell_type": "code",
   "execution_count": 20,
   "id": "7c339bd0",
   "metadata": {},
   "outputs": [
    {
     "data": {
      "text/plain": [
       "array(['non-stop', '2 stops', '1 stop', '3 stops', '4 stops'],\n",
       "      dtype=object)"
      ]
     },
     "execution_count": 20,
     "metadata": {},
     "output_type": "execute_result"
    }
   ],
   "source": [
    "df['Total_Stops'].unique()"
   ]
  },
  {
   "cell_type": "code",
   "execution_count": 21,
   "id": "358960c3",
   "metadata": {},
   "outputs": [],
   "source": [
    "df['Total_Stops'] = df['Total_Stops'].map({'non-stop': 0, '1 stop': 1, '2 stops': 2, '3 stops': 3, '4 stops': 4})"
   ]
  },
  {
   "cell_type": "code",
   "execution_count": 22,
   "id": "9c9d1837",
   "metadata": {},
   "outputs": [],
   "source": [
    "df.drop('Route', axis = 1, inplace=True)"
   ]
  },
  {
   "cell_type": "markdown",
   "id": "8e31c676",
   "metadata": {},
   "source": [
    "##### As we have one outliers in the dataset as the duration from Mumbai to Hyderabad is only 5 minutes."
   ]
  },
  {
   "cell_type": "code",
   "execution_count": 23,
   "id": "0fd79466",
   "metadata": {},
   "outputs": [],
   "source": [
    "df.drop(6474, axis=0, inplace=True)"
   ]
  },
  {
   "cell_type": "markdown",
   "id": "c5cf9a1e",
   "metadata": {},
   "source": [
    "#### Converting the duration into minutes as the column is given as object as hour and minutes"
   ]
  },
  {
   "cell_type": "code",
   "execution_count": 24,
   "id": "6b884fc7",
   "metadata": {},
   "outputs": [],
   "source": [
    "hour_arr = df['Duration'].str.split(' ').str[0]\n",
    "minutes_arr = df['Duration'].str.split(' ').str[1]\n",
    "\n",
    "hour = hour_arr.str.split('h').str[0]\n",
    "minutes = minutes_arr.str.split('m').str[0]\n",
    "minutes.fillna(0, inplace=True)\n",
    "\n",
    "hour = hour.astype(int)\n",
    "minutes = minutes.astype(int)\n",
    "\n",
    "df['Duration'] = hour*60 + minutes"
   ]
  },
  {
   "cell_type": "code",
   "execution_count": 25,
   "id": "b87b014b",
   "metadata": {},
   "outputs": [
    {
     "name": "stdout",
     "output_type": "stream",
     "text": [
      "<class 'pandas.core.frame.DataFrame'>\n",
      "Int64Index: 10681 entries, 0 to 10682\n",
      "Data columns (total 14 columns):\n",
      " #   Column           Non-Null Count  Dtype \n",
      "---  ------           --------------  ----- \n",
      " 0   Airline          10681 non-null  object\n",
      " 1   Source           10681 non-null  object\n",
      " 2   Destination      10681 non-null  object\n",
      " 3   Duration         10681 non-null  int64 \n",
      " 4   Total_Stops      10681 non-null  int64 \n",
      " 5   Additional_Info  10681 non-null  object\n",
      " 6   Price            10681 non-null  int64 \n",
      " 7   day              10681 non-null  int64 \n",
      " 8   month            10681 non-null  int64 \n",
      " 9   year             10681 non-null  int64 \n",
      " 10  Arrival_hour     10681 non-null  int64 \n",
      " 11  Arrival_min      10681 non-null  int64 \n",
      " 12  Dept_hour        10681 non-null  int64 \n",
      " 13  Dept_min         10681 non-null  int64 \n",
      "dtypes: int64(10), object(4)\n",
      "memory usage: 1.2+ MB\n"
     ]
    }
   ],
   "source": [
    "df.info()"
   ]
  },
  {
   "cell_type": "markdown",
   "id": "8f758ee0",
   "metadata": {},
   "source": [
    "#### Dealing with additional info"
   ]
  },
  {
   "cell_type": "code",
   "execution_count": 26,
   "id": "04eee561",
   "metadata": {},
   "outputs": [
    {
     "name": "stdout",
     "output_type": "stream",
     "text": [
      "['No info' 'In-flight meal not included' 'No check-in baggage included'\n",
      " '1 Short layover' 'No Info' '1 Long layover' 'Change airports'\n",
      " 'Business class' 'Red-eye flight' '2 Long layover']\n"
     ]
    }
   ],
   "source": [
    "print(df['Additional_Info'].unique())"
   ]
  },
  {
   "cell_type": "markdown",
   "id": "ce4e8adc",
   "metadata": {},
   "source": [
    "###### As we see there is two \"No info\" as 'No info' & 'No Info' so making them same"
   ]
  },
  {
   "cell_type": "code",
   "execution_count": 27,
   "id": "bef517a0",
   "metadata": {},
   "outputs": [],
   "source": [
    "df['Additional_Info'] = df['Additional_Info'].replace({'No Info': 'No info'})"
   ]
  },
  {
   "cell_type": "code",
   "execution_count": 28,
   "id": "8fd8a167",
   "metadata": {},
   "outputs": [
    {
     "name": "stdout",
     "output_type": "stream",
     "text": [
      "['No info' 'In-flight meal not included' 'No check-in baggage included'\n",
      " '1 Short layover' '1 Long layover' 'Change airports' 'Business class'\n",
      " 'Red-eye flight' '2 Long layover']\n"
     ]
    }
   ],
   "source": [
    "print(df['Additional_Info'].unique())"
   ]
  },
  {
   "cell_type": "code",
   "execution_count": 29,
   "id": "fc8a21b2",
   "metadata": {},
   "outputs": [
    {
     "data": {
      "text/plain": [
       "No info                         8346\n",
       "In-flight meal not included     1982\n",
       "No check-in baggage included     320\n",
       "1 Long layover                    19\n",
       "Change airports                    7\n",
       "Business class                     4\n",
       "1 Short layover                    1\n",
       "Red-eye flight                     1\n",
       "2 Long layover                     1\n",
       "Name: Additional_Info, dtype: int64"
      ]
     },
     "execution_count": 29,
     "metadata": {},
     "output_type": "execute_result"
    }
   ],
   "source": [
    "df['Additional_Info'].value_counts()"
   ]
  },
  {
   "cell_type": "markdown",
   "id": "ee1b1809",
   "metadata": {},
   "source": [
    "##### Now encoding the additional info i.e. categorial values into numerical values"
   ]
  },
  {
   "cell_type": "code",
   "execution_count": 30,
   "id": "4b981166",
   "metadata": {},
   "outputs": [],
   "source": [
    "df['Additional_Info'] = le.fit_transform(df['Additional_Info'])"
   ]
  },
  {
   "cell_type": "code",
   "execution_count": 31,
   "id": "ec749357",
   "metadata": {},
   "outputs": [
    {
     "data": {
      "text/plain": [
       "7    8346\n",
       "5    1982\n",
       "6     320\n",
       "0      19\n",
       "4       7\n",
       "3       4\n",
       "1       1\n",
       "8       1\n",
       "2       1\n",
       "Name: Additional_Info, dtype: int64"
      ]
     },
     "execution_count": 31,
     "metadata": {},
     "output_type": "execute_result"
    }
   ],
   "source": [
    "df['Additional_Info'].value_counts()"
   ]
  },
  {
   "cell_type": "markdown",
   "id": "a9b264cd",
   "metadata": {},
   "source": [
    "##### Here the values are encoded as :\n",
    "- 0 --> 1 Long layover\n",
    "- 1 --> 1 Short layover\n",
    "- 2 --> 2 Long layover\n",
    "- 3 --> Business class\n",
    "- 4 --> Change airports\n",
    "- 5 --> In-flight meal not included\n",
    "- 6 --> No check-in baggage included\n",
    "- 7 --> No info\n",
    "- 8 --> Red-eye flight"
   ]
  },
  {
   "cell_type": "markdown",
   "id": "16e21281",
   "metadata": {},
   "source": [
    "#### Now dealing with Airline"
   ]
  },
  {
   "cell_type": "code",
   "execution_count": 32,
   "id": "df56a6b0",
   "metadata": {},
   "outputs": [
    {
     "data": {
      "text/plain": [
       "Jet Airways                          3849\n",
       "IndiGo                               2053\n",
       "Air India                            1750\n",
       "Multiple carriers                    1196\n",
       "SpiceJet                              818\n",
       "Vistara                               479\n",
       "Air Asia                              319\n",
       "GoAir                                 194\n",
       "Multiple carriers Premium economy      13\n",
       "Jet Airways Business                    6\n",
       "Vistara Premium economy                 3\n",
       "Trujet                                  1\n",
       "Name: Airline, dtype: int64"
      ]
     },
     "execution_count": 32,
     "metadata": {},
     "output_type": "execute_result"
    }
   ],
   "source": [
    "df['Airline'].value_counts()"
   ]
  },
  {
   "cell_type": "markdown",
   "id": "8ec114c6",
   "metadata": {},
   "source": [
    "###### Encoding this categorial value into numerical value"
   ]
  },
  {
   "cell_type": "code",
   "execution_count": 33,
   "id": "eec9ab66",
   "metadata": {},
   "outputs": [],
   "source": [
    "df['Airline'] = le.fit_transform(df['Airline'])"
   ]
  },
  {
   "cell_type": "code",
   "execution_count": 34,
   "id": "411cfcbe",
   "metadata": {},
   "outputs": [
    {
     "data": {
      "text/plain": [
       "4     3849\n",
       "3     2053\n",
       "1     1750\n",
       "6     1196\n",
       "8      818\n",
       "10     479\n",
       "0      319\n",
       "2      194\n",
       "7       13\n",
       "5        6\n",
       "11       3\n",
       "9        1\n",
       "Name: Airline, dtype: int64"
      ]
     },
     "execution_count": 34,
     "metadata": {},
     "output_type": "execute_result"
    }
   ],
   "source": [
    "df['Airline'].value_counts()"
   ]
  },
  {
   "cell_type": "markdown",
   "id": "dc9cc13c",
   "metadata": {},
   "source": [
    "###### Here Airline are encoded as:\n",
    "- 0 --> Air Asia\n",
    "- 1 --> Air India\n",
    "- 2 --> GoAir\n",
    "- 3 --> IndiGo\n",
    "- 4 --> Jet Airways\n",
    "- 5 --> Jet Airways Business\n",
    "- 6 --> Multiple carriers\n",
    "- 7 --> Multiple carriers Premium economy\n",
    "- 8 --> SpiceJet\n",
    "- 9 --> Trujet\n",
    "- 10 --> Vistara\n",
    "- 11 --> Vistara Premium economy "
   ]
  },
  {
   "cell_type": "code",
   "execution_count": 35,
   "id": "ca3a55c0",
   "metadata": {},
   "outputs": [
    {
     "name": "stdout",
     "output_type": "stream",
     "text": [
      "<class 'pandas.core.frame.DataFrame'>\n",
      "Int64Index: 10681 entries, 0 to 10682\n",
      "Data columns (total 14 columns):\n",
      " #   Column           Non-Null Count  Dtype \n",
      "---  ------           --------------  ----- \n",
      " 0   Airline          10681 non-null  int64 \n",
      " 1   Source           10681 non-null  object\n",
      " 2   Destination      10681 non-null  object\n",
      " 3   Duration         10681 non-null  int64 \n",
      " 4   Total_Stops      10681 non-null  int64 \n",
      " 5   Additional_Info  10681 non-null  int64 \n",
      " 6   Price            10681 non-null  int64 \n",
      " 7   day              10681 non-null  int64 \n",
      " 8   month            10681 non-null  int64 \n",
      " 9   year             10681 non-null  int64 \n",
      " 10  Arrival_hour     10681 non-null  int64 \n",
      " 11  Arrival_min      10681 non-null  int64 \n",
      " 12  Dept_hour        10681 non-null  int64 \n",
      " 13  Dept_min         10681 non-null  int64 \n",
      "dtypes: int64(12), object(2)\n",
      "memory usage: 1.2+ MB\n"
     ]
    }
   ],
   "source": [
    "df.info()"
   ]
  },
  {
   "cell_type": "markdown",
   "id": "27c980a7",
   "metadata": {},
   "source": [
    "#### Dealing with source and destination"
   ]
  },
  {
   "cell_type": "markdown",
   "id": "3d46c2db",
   "metadata": {},
   "source": [
    "##### Source"
   ]
  },
  {
   "cell_type": "code",
   "execution_count": 36,
   "id": "2ffba37e",
   "metadata": {},
   "outputs": [
    {
     "data": {
      "text/plain": [
       "Delhi       4536\n",
       "Kolkata     2871\n",
       "Banglore    2197\n",
       "Mumbai       696\n",
       "Chennai      381\n",
       "Name: Source, dtype: int64"
      ]
     },
     "execution_count": 36,
     "metadata": {},
     "output_type": "execute_result"
    }
   ],
   "source": [
    "df['Source'].value_counts()"
   ]
  },
  {
   "cell_type": "markdown",
   "id": "78e49c4b",
   "metadata": {},
   "source": [
    "###### Converting this categorial value to numerical value"
   ]
  },
  {
   "cell_type": "code",
   "execution_count": 37,
   "id": "c3e5a6ae",
   "metadata": {},
   "outputs": [],
   "source": [
    "df['Source'] = le.fit_transform(df['Source'])"
   ]
  },
  {
   "cell_type": "markdown",
   "id": "9daa5f93",
   "metadata": {},
   "source": [
    "#### Destination"
   ]
  },
  {
   "cell_type": "code",
   "execution_count": 38,
   "id": "3741c5c1",
   "metadata": {},
   "outputs": [
    {
     "data": {
      "text/plain": [
       "Cochin       4536\n",
       "Banglore     2871\n",
       "Delhi        1265\n",
       "New Delhi     932\n",
       "Hyderabad     696\n",
       "Kolkata       381\n",
       "Name: Destination, dtype: int64"
      ]
     },
     "execution_count": 38,
     "metadata": {},
     "output_type": "execute_result"
    }
   ],
   "source": [
    "df['Destination'].value_counts()"
   ]
  },
  {
   "cell_type": "markdown",
   "id": "fa13d2d0",
   "metadata": {},
   "source": [
    "###### Converting this categorial value to numerical value"
   ]
  },
  {
   "cell_type": "code",
   "execution_count": 39,
   "id": "f4680f46",
   "metadata": {},
   "outputs": [],
   "source": [
    "df['Destination'] = le.fit_transform(df['Destination'])"
   ]
  },
  {
   "cell_type": "code",
   "execution_count": 40,
   "id": "28613bbd",
   "metadata": {},
   "outputs": [
    {
     "name": "stdout",
     "output_type": "stream",
     "text": [
      "<class 'pandas.core.frame.DataFrame'>\n",
      "Int64Index: 10681 entries, 0 to 10682\n",
      "Data columns (total 14 columns):\n",
      " #   Column           Non-Null Count  Dtype\n",
      "---  ------           --------------  -----\n",
      " 0   Airline          10681 non-null  int64\n",
      " 1   Source           10681 non-null  int64\n",
      " 2   Destination      10681 non-null  int64\n",
      " 3   Duration         10681 non-null  int64\n",
      " 4   Total_Stops      10681 non-null  int64\n",
      " 5   Additional_Info  10681 non-null  int64\n",
      " 6   Price            10681 non-null  int64\n",
      " 7   day              10681 non-null  int64\n",
      " 8   month            10681 non-null  int64\n",
      " 9   year             10681 non-null  int64\n",
      " 10  Arrival_hour     10681 non-null  int64\n",
      " 11  Arrival_min      10681 non-null  int64\n",
      " 12  Dept_hour        10681 non-null  int64\n",
      " 13  Dept_min         10681 non-null  int64\n",
      "dtypes: int64(14)\n",
      "memory usage: 1.2 MB\n"
     ]
    }
   ],
   "source": [
    "df.info()"
   ]
  },
  {
   "cell_type": "markdown",
   "id": "2c613e80",
   "metadata": {},
   "source": [
    "#### Looking at the price distribution"
   ]
  },
  {
   "cell_type": "code",
   "execution_count": 41,
   "id": "b04a3860",
   "metadata": {},
   "outputs": [
    {
     "data": {
      "image/png": "[encoded data removed]",
      "text/plain": [
       "<Figure size 360x360 with 1 Axes>"
      ]
     },
     "metadata": {},
     "output_type": "display_data"
    }
   ],
   "source": [
    "sns.displot(x = 'Price', data=df, kde=True)\n",
    "plt.show()"
   ]
  },
  {
   "cell_type": "markdown",
   "id": "09604ab2",
   "metadata": {},
   "source": [
    "##### We create a correlation between the dependent and independent feature and see at the heatmap"
   ]
  },
  {
   "cell_type": "code",
   "execution_count": 42,
   "id": "e6211e5d",
   "metadata": {},
   "outputs": [
    {
     "data": {
      "image/png": "[encoded data removed]",
      "text/plain": [
       "<Figure size 1080x1080 with 2 Axes>"
      ]
     },
     "metadata": {},
     "output_type": "display_data"
    }
   ],
   "source": [
    "plt.figure(figsize=(15, 15))\n",
    "sns.heatmap(df.corr(), cbar=True, annot=True, fmt='.1f', annot_kws={'size': 8}, cmap='RdYlGn')\n",
    "plt.show()"
   ]
  },
  {
   "cell_type": "markdown",
   "id": "80b95fd8",
   "metadata": {},
   "source": [
    "##### Splitting the dataset into dependent and independent feature"
   ]
  },
  {
   "cell_type": "code",
   "execution_count": 43,
   "id": "9da54583",
   "metadata": {},
   "outputs": [],
   "source": [
    "X = df.drop(['Price', 'year'], axis=1)\n",
    "y = df['Price']"
   ]
  },
  {
   "cell_type": "markdown",
   "id": "88605f95",
   "metadata": {},
   "source": [
    "##### Looking at the important features from the dataset"
   ]
  },
  {
   "cell_type": "code",
   "execution_count": 44,
   "id": "ad5c3818",
   "metadata": {},
   "outputs": [
    {
     "data": {
      "text/plain": [
       "ExtraTreesRegressor()"
      ]
     },
     "execution_count": 44,
     "metadata": {},
     "output_type": "execute_result"
    }
   ],
   "source": [
    "from sklearn.ensemble import ExtraTreesRegressor\n",
    "selection = ExtraTreesRegressor()\n",
    "selection.fit(X, y)"
   ]
  },
  {
   "cell_type": "code",
   "execution_count": 45,
   "id": "5a7cae60",
   "metadata": {},
   "outputs": [
    {
     "data": {
      "text/plain": [
       "array([0.15623399, 0.0208164 , 0.04360251, 0.15097803, 0.29446172,\n",
       "       0.05875293, 0.13312883, 0.05373857, 0.02407169, 0.02454634,\n",
       "       0.01989881, 0.01977017])"
      ]
     },
     "execution_count": 45,
     "metadata": {},
     "output_type": "execute_result"
    }
   ],
   "source": [
    "selection.feature_importances_"
   ]
  },
  {
   "cell_type": "markdown",
   "id": "6965a368",
   "metadata": {},
   "source": [
    "##### Visualizing the feature importance"
   ]
  },
  {
   "cell_type": "code",
   "execution_count": 46,
   "id": "f6c774ac",
   "metadata": {},
   "outputs": [
    {
     "data": {
      "text/plain": [
       "<AxesSubplot:>"
      ]
     },
     "execution_count": 46,
     "metadata": {},
     "output_type": "execute_result"
    },
    {
     "data": {
      "image/png": "[encoded data removed]",
      "text/plain": [
       "<Figure size 864x576 with 1 Axes>"
      ]
     },
     "metadata": {},
     "output_type": "display_data"
    }
   ],
   "source": [
    "plt.figure(figsize=(12, 8))\n",
    "feature_importance = pd.Series(selection.feature_importances_, index=X.columns)\n",
    "feature_importance.nlargest(20).plot(kind='barh')"
   ]
  },
  {
   "cell_type": "markdown",
   "id": "89cf9fae",
   "metadata": {},
   "source": [
    "##### Splitting the dataset into test and train set"
   ]
  },
  {
   "cell_type": "code",
   "execution_count": 48,
   "id": "114cb172",
   "metadata": {},
   "outputs": [],
   "source": [
    "from sklearn.model_selection import train_test_split\n",
    "X_train, X_test, y_train, y_test = train_test_split(X, y, test_size=0.2, random_state=42)"
   ]
  },
  {
   "cell_type": "markdown",
   "id": "382eb0af",
   "metadata": {},
   "source": [
    "#### Fitting different ml model into the train set"
   ]
  },
  {
   "cell_type": "code",
   "execution_count": 49,
   "id": "5c7bac3b",
   "metadata": {},
   "outputs": [],
   "source": [
    "from sklearn.linear_model import LinearRegression\n",
    "from sklearn.tree import DecisionTreeRegressor\n",
    "from sklearn.ensemble import RandomForestRegressor, ExtraTreesRegressor\n",
    "from sklearn.svm import SVR\n",
    "from xgboost import XGBRegressor, XGBRFRegressor"
   ]
  },
  {
   "cell_type": "markdown",
   "id": "b0e63adc",
   "metadata": {},
   "source": [
    "##### We make a function fit_model to fit the model and calculate accuracy score"
   ]
  },
  {
   "cell_type": "code",
   "execution_count": 50,
   "id": "21ce2dcd",
   "metadata": {},
   "outputs": [],
   "source": [
    "def fit_model(model, X_train, X_test, y_train, y_test):\n",
    "    model.fit(X_train, y_train)\n",
    "    print('The predicted values:\\n ', model.predict(X_test))\n",
    "    print('\\nThe accuracy score: ', model.score(X_test, y_test))"
   ]
  },
  {
   "cell_type": "markdown",
   "id": "6ce2a43b",
   "metadata": {},
   "source": [
    "#### 1. Linear Regression"
   ]
  },
  {
   "cell_type": "code",
   "execution_count": 51,
   "id": "b9fb6532",
   "metadata": {},
   "outputs": [
    {
     "name": "stdout",
     "output_type": "stream",
     "text": [
      "The predicted values:\n",
      "  [ 8818.66330602 11728.02528572 10635.93070933 ...  9094.0993373\n",
      "  9208.98579153 11188.58570242]\n",
      "\n",
      "The accuracy score:  0.4456923316290854\n"
     ]
    }
   ],
   "source": [
    "fit_model(LinearRegression(), X_train, X_test, y_train, y_test)"
   ]
  },
  {
   "cell_type": "markdown",
   "id": "9f5c5c8e",
   "metadata": {},
   "source": [
    "#### 2. Decision Tree Regressor"
   ]
  },
  {
   "cell_type": "code",
   "execution_count": 52,
   "id": "a6e3bd8e",
   "metadata": {},
   "outputs": [
    {
     "name": "stdout",
     "output_type": "stream",
     "text": [
      "The predicted values:\n",
      "  [ 9806.  9345.  5963. ...  7480. 14676. 14871.]\n",
      "\n",
      "The accuracy score:  0.7260533819723427\n"
     ]
    }
   ],
   "source": [
    "fit_model(DecisionTreeRegressor(), X_train, X_test, y_train, y_test)"
   ]
  },
  {
   "cell_type": "markdown",
   "id": "c4707bb1",
   "metadata": {},
   "source": [
    "#### 3. Random Forest Regressor"
   ]
  },
  {
   "cell_type": "code",
   "execution_count": 53,
   "id": "d50b7a41",
   "metadata": {},
   "outputs": [
    {
     "name": "stdout",
     "output_type": "stream",
     "text": [
      "The predicted values:\n",
      "  [ 7540.86  8800.18  5973.13 ...  7551.14 13664.61 14259.08]\n",
      "\n",
      "The accuracy score:  0.8460589601793069\n"
     ]
    }
   ],
   "source": [
    "fit_model(RandomForestRegressor(), X_train, X_test, y_train, y_test)"
   ]
  },
  {
   "cell_type": "markdown",
   "id": "04f70cb7",
   "metadata": {},
   "source": [
    "#### 4. Extra Tree Regressor"
   ]
  },
  {
   "cell_type": "code",
   "execution_count": 54,
   "id": "b46e0faf",
   "metadata": {},
   "outputs": [
    {
     "name": "stdout",
     "output_type": "stream",
     "text": [
      "The predicted values:\n",
      "  [ 8222.09  8483.98  5929.58 ...  7563.38 14095.35 15214.67]\n",
      "\n",
      "The accuracy score:  0.8935411742842879\n"
     ]
    }
   ],
   "source": [
    "fit_model(ExtraTreesRegressor(), X_train, X_test, y_train, y_test)"
   ]
  },
  {
   "cell_type": "markdown",
   "id": "25c9ba0f",
   "metadata": {},
   "source": [
    "#### 5. Support Vector Regressor"
   ]
  },
  {
   "cell_type": "code",
   "execution_count": 56,
   "id": "9a5b82cb",
   "metadata": {},
   "outputs": [
    {
     "name": "stdout",
     "output_type": "stream",
     "text": [
      "The predicted values:\n",
      "  [ 6633.8995034   9675.34183    11763.71473213 ...  8641.45865781\n",
      "  7542.97528459  8152.35839268]\n",
      "\n",
      "The accuracy score:  0.31599060107893884\n"
     ]
    }
   ],
   "source": [
    "fit_model(SVR(kernel='linear'), X_train, X_test, y_train, y_test)"
   ]
  },
  {
   "cell_type": "markdown",
   "id": "7ff0c8bb",
   "metadata": {},
   "source": [
    "#### 6. XGB Regressor"
   ]
  },
  {
   "cell_type": "code",
   "execution_count": 57,
   "id": "1be9d5e9",
   "metadata": {},
   "outputs": [
    {
     "name": "stdout",
     "output_type": "stream",
     "text": [
      "The predicted values:\n",
      "  [ 7945.4775  8884.373   7123.7563 ...  7502.3315 14144.535  15741.133 ]\n",
      "\n",
      "The accuracy score:  0.8516228142827689\n"
     ]
    }
   ],
   "source": [
    "fit_model(XGBRegressor(), X_train, X_test, y_train, y_test)"
   ]
  },
  {
   "cell_type": "markdown",
   "id": "7cae83b1",
   "metadata": {},
   "source": [
    "#### 7. XGBRF Regressor"
   ]
  },
  {
   "cell_type": "code",
   "execution_count": 58,
   "id": "820727dc",
   "metadata": {},
   "outputs": [
    {
     "name": "stdout",
     "output_type": "stream",
     "text": [
      "The predicted values:\n",
      "  [ 6650.0386 10108.101   9846.59   ...  8035.503  14143.825  11911.579 ]\n",
      "\n",
      "The accuracy score:  0.7515430427922157\n"
     ]
    }
   ],
   "source": [
    "fit_model(XGBRFRegressor(), X_train, X_test, y_train, y_test)"
   ]
  },
  {
   "cell_type": "code",
   "execution_count": null,
   "id": "90bcd1a3",
   "metadata": {},
   "outputs": [],
   "source": []
  }
 ],
 "metadata": {
  "kernelspec": {
   "display_name": "Python 3 (ipykernel)",
   "language": "python",
   "name": "python3"
  },
  "language_info": {
   "codemirror_mode": {
    "name": "ipython",
    "version": 3
   },
   "file_extension": ".py",
   "mimetype": "text/x-python",
   "name": "python",
   "nbconvert_exporter": "python",
   "pygments_lexer": "ipython3",
   "version": "3.9.7"
  }
 },
 "nbformat": 4,
 "nbformat_minor": 5
}
